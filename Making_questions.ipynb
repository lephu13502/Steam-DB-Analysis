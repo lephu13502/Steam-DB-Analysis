{
  "cells": [
    {
      "cell_type": "markdown",
      "metadata": {
        "id": "FUa4l-kq_R_J"
      },
      "source": [
        "<h1>Credit Card Fraud Detection 2023 Dataset Modeling</h1>\n",
        "\n",
        "Objectives: Applying the following model to detect Credit Card Fraud.\n",
        "- `Logistic regression`\n",
        "- `Decision tree classifier`\n",
        "- `Random forest classifier`\n",
        "- `Multilayer perceptron classifier`"
      ]
    },
    {
      "cell_type": "markdown",
      "metadata": {
        "id": "Upny15Q9_p0S"
      },
      "source": [
        "# Preparation"
      ]
    },
    {
      "cell_type": "markdown",
      "metadata": {
        "id": "MNt19EuOCN1g"
      },
      "source": [
        "## Setup SparkSession"
      ]
    },
    {
      "cell_type": "code",
      "execution_count": 1,
      "metadata": {
        "colab": {
          "base_uri": "https://localhost:8080/"
        },
        "id": "dMXNwEbmCMQW",
        "outputId": "30783600-fbac-46d9-9451-b4942d526edd"
      },
      "outputs": [
        {
          "output_type": "stream",
          "name": "stdout",
          "text": [
            "Reading package lists... Done\n",
            "Building dependency tree... Done\n",
            "Reading state information... Done\n",
            "The following additional packages will be installed:\n",
            "  libxtst6 openjdk-8-jre-headless\n",
            "Suggested packages:\n",
            "  openjdk-8-demo openjdk-8-source libnss-mdns fonts-dejavu-extra fonts-nanum fonts-ipafont-gothic\n",
            "  fonts-ipafont-mincho fonts-wqy-microhei fonts-wqy-zenhei fonts-indic\n",
            "The following NEW packages will be installed:\n",
            "  libxtst6 openjdk-8-jdk-headless openjdk-8-jre-headless\n",
            "0 upgraded, 3 newly installed, 0 to remove and 45 not upgraded.\n",
            "Need to get 39.7 MB of archives.\n",
            "After this operation, 144 MB of additional disk space will be used.\n",
            "Get:1 http://archive.ubuntu.com/ubuntu jammy/main amd64 libxtst6 amd64 2:1.2.3-1build4 [13.4 kB]\n",
            "Get:2 http://archive.ubuntu.com/ubuntu jammy-updates/universe amd64 openjdk-8-jre-headless amd64 8u402-ga-2ubuntu1~22.04 [30.8 MB]\n",
            "Get:3 http://archive.ubuntu.com/ubuntu jammy-updates/universe amd64 openjdk-8-jdk-headless amd64 8u402-ga-2ubuntu1~22.04 [8,873 kB]\n",
            "Fetched 39.7 MB in 1s (55.7 MB/s)\n",
            "Selecting previously unselected package libxtst6:amd64.\n",
            "(Reading database ... 121752 files and directories currently installed.)\n",
            "Preparing to unpack .../libxtst6_2%3a1.2.3-1build4_amd64.deb ...\n",
            "Unpacking libxtst6:amd64 (2:1.2.3-1build4) ...\n",
            "Selecting previously unselected package openjdk-8-jre-headless:amd64.\n",
            "Preparing to unpack .../openjdk-8-jre-headless_8u402-ga-2ubuntu1~22.04_amd64.deb ...\n",
            "Unpacking openjdk-8-jre-headless:amd64 (8u402-ga-2ubuntu1~22.04) ...\n",
            "Selecting previously unselected package openjdk-8-jdk-headless:amd64.\n",
            "Preparing to unpack .../openjdk-8-jdk-headless_8u402-ga-2ubuntu1~22.04_amd64.deb ...\n",
            "Unpacking openjdk-8-jdk-headless:amd64 (8u402-ga-2ubuntu1~22.04) ...\n",
            "Setting up libxtst6:amd64 (2:1.2.3-1build4) ...\n",
            "Setting up openjdk-8-jre-headless:amd64 (8u402-ga-2ubuntu1~22.04) ...\n",
            "update-alternatives: using /usr/lib/jvm/java-8-openjdk-amd64/jre/bin/orbd to provide /usr/bin/orbd (orbd) in auto mode\n",
            "update-alternatives: using /usr/lib/jvm/java-8-openjdk-amd64/jre/bin/servertool to provide /usr/bin/servertool (servertool) in auto mode\n",
            "update-alternatives: using /usr/lib/jvm/java-8-openjdk-amd64/jre/bin/tnameserv to provide /usr/bin/tnameserv (tnameserv) in auto mode\n",
            "Setting up openjdk-8-jdk-headless:amd64 (8u402-ga-2ubuntu1~22.04) ...\n",
            "update-alternatives: using /usr/lib/jvm/java-8-openjdk-amd64/bin/clhsdb to provide /usr/bin/clhsdb (clhsdb) in auto mode\n",
            "update-alternatives: using /usr/lib/jvm/java-8-openjdk-amd64/bin/extcheck to provide /usr/bin/extcheck (extcheck) in auto mode\n",
            "update-alternatives: using /usr/lib/jvm/java-8-openjdk-amd64/bin/hsdb to provide /usr/bin/hsdb (hsdb) in auto mode\n",
            "update-alternatives: using /usr/lib/jvm/java-8-openjdk-amd64/bin/idlj to provide /usr/bin/idlj (idlj) in auto mode\n",
            "update-alternatives: using /usr/lib/jvm/java-8-openjdk-amd64/bin/javah to provide /usr/bin/javah (javah) in auto mode\n",
            "update-alternatives: using /usr/lib/jvm/java-8-openjdk-amd64/bin/jhat to provide /usr/bin/jhat (jhat) in auto mode\n",
            "update-alternatives: using /usr/lib/jvm/java-8-openjdk-amd64/bin/jsadebugd to provide /usr/bin/jsadebugd (jsadebugd) in auto mode\n",
            "update-alternatives: using /usr/lib/jvm/java-8-openjdk-amd64/bin/native2ascii to provide /usr/bin/native2ascii (native2ascii) in auto mode\n",
            "update-alternatives: using /usr/lib/jvm/java-8-openjdk-amd64/bin/schemagen to provide /usr/bin/schemagen (schemagen) in auto mode\n",
            "update-alternatives: using /usr/lib/jvm/java-8-openjdk-amd64/bin/wsgen to provide /usr/bin/wsgen (wsgen) in auto mode\n",
            "update-alternatives: using /usr/lib/jvm/java-8-openjdk-amd64/bin/wsimport to provide /usr/bin/wsimport (wsimport) in auto mode\n",
            "update-alternatives: using /usr/lib/jvm/java-8-openjdk-amd64/bin/xjc to provide /usr/bin/xjc (xjc) in auto mode\n",
            "Processing triggers for libc-bin (2.35-0ubuntu3.4) ...\n",
            "/sbin/ldconfig.real: /usr/local/lib/libtbb.so.12 is not a symbolic link\n",
            "\n",
            "/sbin/ldconfig.real: /usr/local/lib/libtbbbind_2_5.so.3 is not a symbolic link\n",
            "\n",
            "/sbin/ldconfig.real: /usr/local/lib/libtbbbind.so.3 is not a symbolic link\n",
            "\n",
            "/sbin/ldconfig.real: /usr/local/lib/libtbbmalloc_proxy.so.2 is not a symbolic link\n",
            "\n",
            "/sbin/ldconfig.real: /usr/local/lib/libtbbmalloc.so.2 is not a symbolic link\n",
            "\n",
            "/sbin/ldconfig.real: /usr/local/lib/libtbbbind_2_0.so.3 is not a symbolic link\n",
            "\n",
            "--2024-04-13 19:41:57--  https://dlcdn.apache.org/spark/spark-3.5.1/spark-3.5.1-bin-hadoop3.tgz\n",
            "Resolving dlcdn.apache.org (dlcdn.apache.org)... 151.101.2.132, 2a04:4e42::644\n",
            "Connecting to dlcdn.apache.org (dlcdn.apache.org)|151.101.2.132|:443... connected.\n",
            "HTTP request sent, awaiting response... 200 OK\n",
            "Length: 400446614 (382M) [application/x-gzip]\n",
            "Saving to: ‘spark-3.5.1-bin-hadoop3.tgz’\n",
            "\n",
            "spark-3.5.1-bin-had 100%[===================>] 381.90M   191MB/s    in 2.0s    \n",
            "\n",
            "2024-04-13 19:42:09 (191 MB/s) - ‘spark-3.5.1-bin-hadoop3.tgz’ saved [400446614/400446614]\n",
            "\n",
            "Collecting findspark\n",
            "  Downloading findspark-2.0.1-py2.py3-none-any.whl (4.4 kB)\n",
            "Installing collected packages: findspark\n",
            "Successfully installed findspark-2.0.1\n"
          ]
        }
      ],
      "source": [
        "!apt-get install openjdk-8-jdk-headless\n",
        "!wget https://dlcdn.apache.org/spark/spark-3.5.1/spark-3.5.1-bin-hadoop3.tgz\n",
        "!tar xf spark-3.5.1-bin-hadoop3.tgz\n",
        "!pip install findspark"
      ]
    },
    {
      "cell_type": "code",
      "execution_count": 2,
      "metadata": {
        "id": "SUHyfkfSGeho"
      },
      "outputs": [],
      "source": [
        "import os\n",
        "os.environ[\"JAVA_HOME\"] = \"/usr/lib/jvm/java-8-openjdk-amd64\"\n",
        "os.environ[\"SPARK_HOME\"] = \"/content/spark-3.5.1-bin-hadoop3\""
      ]
    },
    {
      "cell_type": "code",
      "execution_count": 3,
      "metadata": {
        "id": "b5quGcgCGkfC"
      },
      "outputs": [],
      "source": [
        "import findspark\n",
        "findspark.init()"
      ]
    },
    {
      "cell_type": "code",
      "execution_count": 4,
      "metadata": {
        "colab": {
          "base_uri": "https://localhost:8080/",
          "height": 219
        },
        "id": "-70Phmz-CT6q",
        "outputId": "9b5a9ac2-7eb7-4016-bd55-1a6064703a14"
      },
      "outputs": [
        {
          "output_type": "execute_result",
          "data": {
            "text/plain": [
              "<pyspark.sql.session.SparkSession at 0x7eb064376410>"
            ],
            "text/html": [
              "\n",
              "            <div>\n",
              "                <p><b>SparkSession - in-memory</b></p>\n",
              "                \n",
              "        <div>\n",
              "            <p><b>SparkContext</b></p>\n",
              "\n",
              "            <p><a href=\"http://696fdda531af:4040\">Spark UI</a></p>\n",
              "\n",
              "            <dl>\n",
              "              <dt>Version</dt>\n",
              "                <dd><code>v3.5.1</code></dd>\n",
              "              <dt>Master</dt>\n",
              "                <dd><code>local[*]</code></dd>\n",
              "              <dt>AppName</dt>\n",
              "                <dd><code>local[*]</code></dd>\n",
              "            </dl>\n",
              "        </div>\n",
              "        \n",
              "            </div>\n",
              "        "
            ]
          },
          "metadata": {},
          "execution_count": 4
        }
      ],
      "source": [
        "from pyspark.sql import SparkSession\n",
        "spark = SparkSession.builder.appName(\"local[*]\").getOrCreate()\n",
        "spark"
      ]
    },
    {
      "cell_type": "code",
      "execution_count": 5,
      "metadata": {
        "id": "7WMNPw5eDbko"
      },
      "outputs": [],
      "source": [
        "from pyspark.ml.evaluation import MulticlassClassificationEvaluator"
      ]
    },
    {
      "cell_type": "markdown",
      "metadata": {
        "id": "27iOWEBuAo3c"
      },
      "source": [
        "## Upload the preprocessed dataset and load it"
      ]
    },
    {
      "cell_type": "code",
      "execution_count": 6,
      "metadata": {
        "colab": {
          "base_uri": "https://localhost:8080/"
        },
        "id": "_kdrGixu-Q_e",
        "outputId": "c12e3875-135f-42d4-dc41-f82cd2b915f3"
      },
      "outputs": [
        {
          "output_type": "stream",
          "name": "stdout",
          "text": [
            "Downloading...\n",
            "From (original): https://drive.google.com/uc?id=1cgGYsui4NogY2KpQHZSnS2w-gJ64n0vV\n",
            "From (redirected): https://drive.google.com/uc?id=1cgGYsui4NogY2KpQHZSnS2w-gJ64n0vV&confirm=t&uuid=b4780868-a1fe-4708-b6c7-52cd738ea67e\n",
            "To: /content/creditcard_2023_preprocessed.csv\n",
            "100% 248M/248M [00:01<00:00, 136MB/s]\n"
          ]
        }
      ],
      "source": [
        "!gdown https://drive.google.com/uc?id=1cgGYsui4NogY2KpQHZSnS2w-gJ64n0vV -O creditcard_2023_preprocessed.csv"
      ]
    },
    {
      "cell_type": "code",
      "execution_count": 7,
      "metadata": {
        "colab": {
          "base_uri": "https://localhost:8080/"
        },
        "id": "ph5St7CuA9li",
        "outputId": "46891cda-dc98-4938-a5c8-3f44061bb563"
      },
      "outputs": [
        {
          "output_type": "stream",
          "name": "stdout",
          "text": [
            "+--------------------+-------------------+------------------+--------------------+-------------------+-------------------+------------------+-------------------+-------------------+------------------+-------------------+------------------+------------------+-------------------+-------------------+-------------------+-------------------+-------------------+--------------------+-------------------+--------------------+--------------------+-----+\n",
            "|                  V1|                 V2|                V3|                  V4|                 V5|                 V6|                V7|                 V8|                 V9|               V10|                V11|               V12|               V14|                V16|                V17|                V18|                V19|                V20|                 V21|                V24|                 V27|                 V28|Class|\n",
            "+--------------------+-------------------+------------------+--------------------+-------------------+-------------------+------------------+-------------------+-------------------+------------------+-------------------+------------------+------------------+-------------------+-------------------+-------------------+-------------------+-------------------+--------------------+-------------------+--------------------+--------------------+-----+\n",
            "|-0.26064780489439815|-0.4696484500536341|2.4962660826315646|-0.08372391267814627| 0.1296812361545678| 0.7328982498449425| 0.519013617901801|-0.1300060475886773| 0.7271592691096375|0.6377345411881965|-0.9870200098799838| 0.293438100482016| 0.549019893630889|0.21559799387253878| 0.5123066605849524| 0.3336437173298196|0.12427015635408467|0.09120189881650703|-0.11055167961012964|0.16595911543127517|-0.08123010860166746|-0.15104548645557708|    0|\n",
            "|  0.9850997342386381|-0.3560450929163435|0.5580563509382046|-0.42965390340651055| 0.2771402629466986|0.42860451533792626|0.4064660422512959|-0.1331182741764908| 0.3474518951767279|0.5298079844330021|0.14010733071951942|1.5642457677861703|0.6277187366771657| 0.7891883649573923|0.40380988162701126|0.20179937246690238|-0.3406870994105202|-0.2339841559621429|-0.19493596375310734|-0.5773948740161741|-0.24805205857704937| -0.0645119229692018|    0|\n",
            "|-0.26027161274297056|-0.9493846066454119|1.7285377761514877|-0.45798628884248366|0.07406165434922209| 1.4194811432767416|0.7435110747693967|-0.0955760133714609|-0.2612966191422006|0.6907077998548775|-0.2729849252987684|0.6592006642046835|0.6168743863580852|-0.5775135224933787| 0.8865259684145712| 0.2394416609792881|-2.3660789277247263|0.36165231019559296|-0.00502027775313...|-1.1546656286835622| -0.3002580354449099|-0.24471822939465593|    0|\n",
            "+--------------------+-------------------+------------------+--------------------+-------------------+-------------------+------------------+-------------------+-------------------+------------------+-------------------+------------------+------------------+-------------------+-------------------+-------------------+-------------------+-------------------+--------------------+-------------------+--------------------+--------------------+-----+\n",
            "only showing top 3 rows\n",
            "\n"
          ]
        }
      ],
      "source": [
        "df = spark.read.csv(\"creditcard_2023_preprocessed.csv\", header = True, inferSchema = True)\n",
        "df.show(3)"
      ]
    },
    {
      "cell_type": "markdown",
      "metadata": {
        "id": "QoaQCLJdDG6E"
      },
      "source": [
        "## Train - test split"
      ]
    },
    {
      "cell_type": "code",
      "execution_count": 8,
      "metadata": {
        "id": "ghAkQ5tZDLKF"
      },
      "outputs": [],
      "source": [
        "from pyspark.ml.feature import VectorAssembler\n",
        "from pyspark.sql.functions import col\n",
        "\n",
        "assembler = VectorAssembler(inputCols= df.columns[0:22], outputCol = \"features\")\n",
        "df_assembled = assembler.transform(df)\n",
        "df_final = df_assembled.select(col(\"features\"), col(\"Class\").alias(\"label\"))"
      ]
    },
    {
      "cell_type": "code",
      "execution_count": 9,
      "metadata": {
        "id": "0UxhOuGEIqjh"
      },
      "outputs": [],
      "source": [
        "train, test = df_final.randomSplit([0.75, 0.25], seed = 200)"
      ]
    },
    {
      "cell_type": "markdown",
      "metadata": {
        "id": "klrEJDHpDESQ"
      },
      "source": [
        "# 1. Logistic Regression"
      ]
    },
    {
      "cell_type": "markdown",
      "metadata": {
        "id": "cjTzkzSuD2Lg"
      },
      "source": [
        "Train"
      ]
    },
    {
      "cell_type": "code",
      "execution_count": 10,
      "metadata": {
        "colab": {
          "base_uri": "https://localhost:8080/"
        },
        "id": "RmKSqRbJDeHE",
        "outputId": "32829d4b-485a-42a6-ee32-4164d2c4d964"
      },
      "outputs": [
        {
          "output_type": "stream",
          "name": "stdout",
          "text": [
            "+--------------------+-----+--------------------+--------------------+----------+\n",
            "|            features|label|       rawPrediction|         probability|prediction|\n",
            "+--------------------+-----+--------------------+--------------------+----------+\n",
            "|[-3.2185342708315...|    0|[18.2174666768860...|[0.99999998774665...|       0.0|\n",
            "|[-2.9960414574330...|    0|[22.9136821189561...|[0.99999999988812...|       0.0|\n",
            "|[-2.8478753009614...|    0|[20.8517348679275...|[0.99999999912055...|       0.0|\n",
            "|[-2.7525361764288...|    0|[7.62775675973381...|[0.99951348527658...|       0.0|\n",
            "|[-2.7110079759018...|    0|[4.01630711895551...|[0.98229956528970...|       0.0|\n",
            "+--------------------+-----+--------------------+--------------------+----------+\n",
            "only showing top 5 rows\n",
            "\n"
          ]
        }
      ],
      "source": [
        "from pyspark.ml.classification import LogisticRegression\n",
        "\n",
        "#default\n",
        "lr = LogisticRegression(labelCol = \"label\", featuresCol = \"features\", maxIter=100)\n",
        "lrm = lr.fit(train)\n",
        "predictions_lr = lrm.transform(test)\n",
        "predictions_lr.show(5)"
      ]
    },
    {
      "cell_type": "code",
      "execution_count": 11,
      "metadata": {
        "colab": {
          "base_uri": "https://localhost:8080/"
        },
        "id": "J6jDIuPs1FQA",
        "outputId": "8ecb9ed3-5ae5-4ff5-ae01-b941a7271bed"
      },
      "outputs": [
        {
          "output_type": "stream",
          "name": "stdout",
          "text": [
            "+--------------------+-----+--------------------+--------------------+----------+\n",
            "|            features|label|       rawPrediction|         probability|prediction|\n",
            "+--------------------+-----+--------------------+--------------------+----------+\n",
            "|[-3.2185342708315...|    0|[18.2174666768860...|[0.99999998774665...|       0.0|\n",
            "|[-2.9960414574330...|    0|[22.9136821189561...|[0.99999999988812...|       0.0|\n",
            "|[-2.8478753009614...|    0|[20.8517348679275...|[0.99999999912055...|       0.0|\n",
            "|[-2.7525361764288...|    0|[7.62775675973381...|[0.99951348527658...|       0.0|\n",
            "|[-2.7110079759018...|    0|[4.01630711895551...|[0.98229956528970...|       0.0|\n",
            "+--------------------+-----+--------------------+--------------------+----------+\n",
            "only showing top 5 rows\n",
            "\n"
          ]
        }
      ],
      "source": [
        "#max iter = 500\n",
        "lr_1 = LogisticRegression(labelCol = \"label\", featuresCol = \"features\", maxIter=500)\n",
        "lrm_1 = lr_1.fit(train)\n",
        "predictions_lr_1 = lrm_1.transform(test)\n",
        "predictions_lr_1.show(5)"
      ]
    },
    {
      "cell_type": "code",
      "execution_count": 12,
      "metadata": {
        "colab": {
          "base_uri": "https://localhost:8080/"
        },
        "id": "koudZBp41kFK",
        "outputId": "e7f7ecf6-a015-4bd3-b6d9-271207f68490"
      },
      "outputs": [
        {
          "output_type": "stream",
          "name": "stdout",
          "text": [
            "+--------------------+-----+--------------------+--------------------+----------+\n",
            "|            features|label|       rawPrediction|         probability|prediction|\n",
            "+--------------------+-----+--------------------+--------------------+----------+\n",
            "|[-3.2185342708315...|    0|[6.806716760627,-...|[0.99889490333517...|       0.0|\n",
            "|[-2.9960414574330...|    0|[7.69690373103195...|[0.99954597480203...|       0.0|\n",
            "|[-2.8478753009614...|    0|[6.19837933931903...|[0.99797140125658...|       0.0|\n",
            "|[-2.7525361764288...|    0|[4.77842091354179...|[0.99166085862110...|       0.0|\n",
            "|[-2.7110079759018...|    0|[2.64939076847231...|[0.93397343092239...|       0.0|\n",
            "+--------------------+-----+--------------------+--------------------+----------+\n",
            "only showing top 5 rows\n",
            "\n"
          ]
        }
      ],
      "source": [
        "#regParam = 0.1, elasticNetParam = 0(Ridge regression, L2 penalty)\n",
        "lr_2 = LogisticRegression(labelCol = \"label\", featuresCol = \"features\", maxIter = 100, regParam = 0.1, elasticNetParam = 0)\n",
        "lrm_2 = lr_2.fit(train)\n",
        "predictions_lr_2 = lrm_2.transform(test)\n",
        "predictions_lr_2.show(5)"
      ]
    },
    {
      "cell_type": "code",
      "execution_count": 13,
      "metadata": {
        "colab": {
          "base_uri": "https://localhost:8080/"
        },
        "id": "bILjFgMU17bh",
        "outputId": "c3cef1ba-10e2-490b-b9b5-e3ae4ef08988"
      },
      "outputs": [
        {
          "output_type": "stream",
          "name": "stdout",
          "text": [
            "+--------------------+-----+--------------------+--------------------+----------+\n",
            "|            features|label|       rawPrediction|         probability|prediction|\n",
            "+--------------------+-----+--------------------+--------------------+----------+\n",
            "|[-3.2185342708315...|    0|[2.13638739279812...|[0.89438986161146...|       0.0|\n",
            "|[-2.9960414574330...|    0|[-0.1637534119288...|[0.45915288314933...|       1.0|\n",
            "|[-2.8478753009614...|    0|[1.28184108925445...|[0.78276300757265...|       0.0|\n",
            "|[-2.7525361764288...|    0|[1.21098906175320...|[0.77047390534051...|       0.0|\n",
            "|[-2.7110079759018...|    0|[-0.1553872497452...|[0.46123116295879...|       1.0|\n",
            "+--------------------+-----+--------------------+--------------------+----------+\n",
            "only showing top 5 rows\n",
            "\n"
          ]
        }
      ],
      "source": [
        "#regParam = 0.1, elasticNetParam = 1(LASSO - Least Absolute Shrinkage and Selection Operator, L1 penalty)\n",
        "lr_3 = LogisticRegression(labelCol = \"label\", featuresCol = \"features\", maxIter = 100, regParam = 0.1, elasticNetParam = 1)\n",
        "lrm_3 = lr_3.fit(train)\n",
        "predictions_lr_3 = lrm_3.transform(test)\n",
        "predictions_lr_3.show(5)"
      ]
    },
    {
      "cell_type": "code",
      "execution_count": 14,
      "metadata": {
        "colab": {
          "base_uri": "https://localhost:8080/"
        },
        "id": "pqI98LX33N51",
        "outputId": "507667b3-73bd-4a49-8ded-f0ef7de510db"
      },
      "outputs": [
        {
          "output_type": "stream",
          "name": "stdout",
          "text": [
            "+--------------------+-----+--------------------+--------------------+----------+\n",
            "|            features|label|       rawPrediction|         probability|prediction|\n",
            "+--------------------+-----+--------------------+--------------------+----------+\n",
            "|[-3.2185342708315...|    0|[1.70935787678792...|[0.84675297935561...|       0.0|\n",
            "|[-2.9960414574330...|    0|[-0.6481867546902...|[0.34339826426503...|       1.0|\n",
            "|[-2.8478753009614...|    0|[0.36428849167571...|[0.59007815911776...|       0.0|\n",
            "|[-2.7525361764288...|    0|[1.34076654182857...|[0.79261597070098...|       0.0|\n",
            "|[-2.7110079759018...|    0|[-0.4278980163708...|[0.39462837739266...|       1.0|\n",
            "+--------------------+-----+--------------------+--------------------+----------+\n",
            "only showing top 5 rows\n",
            "\n"
          ]
        }
      ],
      "source": [
        "#regParam = 0.1, elasticNetParam = 0.6(Elastic net, L1+L2 penalty)\n",
        "lr_4 = LogisticRegression(labelCol = \"label\", featuresCol = \"features\", maxIter = 100, regParam = 0.1, elasticNetParam = 0.6)\n",
        "lrm_4 = lr_4.fit(train)\n",
        "predictions_lr_4 = lrm_4.transform(test)\n",
        "predictions_lr_4.show(5)"
      ]
    },
    {
      "cell_type": "markdown",
      "metadata": {
        "id": "LFrenJMID1a6"
      },
      "source": [
        "Test"
      ]
    },
    {
      "cell_type": "code",
      "execution_count": 15,
      "metadata": {
        "colab": {
          "base_uri": "https://localhost:8080/"
        },
        "id": "vsSKnZx5D3th",
        "outputId": "f7187297-843c-4f35-cbdb-2679d15349d3"
      },
      "outputs": [
        {
          "output_type": "stream",
          "name": "stdout",
          "text": [
            "Accuracy Logistic Regression default: 0.9650977257787765\n",
            "Test Error Logistic Regression default: 0.034902274221223495\n"
          ]
        }
      ],
      "source": [
        "#default res\n",
        "evaluator = MulticlassClassificationEvaluator(labelCol=\"label\", predictionCol=\"prediction\")\n",
        "accuracy_LogisticRegression = evaluator.evaluate(predictions_lr)\n",
        "print(\"Accuracy Logistic Regression default: {}\".format(accuracy_LogisticRegression))\n",
        "print(\"Test Error Logistic Regression default: {}\".format(1.0 - accuracy_LogisticRegression))"
      ]
    },
    {
      "cell_type": "code",
      "execution_count": 16,
      "metadata": {
        "colab": {
          "base_uri": "https://localhost:8080/"
        },
        "id": "9Zn7otnNwfVP",
        "outputId": "a160bb90-da1e-45fd-b818-30a21fef31c5"
      },
      "outputs": [
        {
          "output_type": "stream",
          "name": "stdout",
          "text": [
            "Accuracy Logistic Regression 500 iter: 0.9650977257787765\n",
            "Test Error Logistic Regression 500 iter: 0.034902274221223495\n"
          ]
        }
      ],
      "source": [
        "#max iter = 500 res\n",
        "accuracy_LogisticRegression_1 = evaluator.evaluate(predictions_lr_1)\n",
        "print(\"Accuracy Logistic Regression 500 iter: {}\".format(accuracy_LogisticRegression_1))\n",
        "print(\"Test Error Logistic Regression 500 iter: {}\".format(1.0 - accuracy_LogisticRegression_1))"
      ]
    },
    {
      "cell_type": "code",
      "execution_count": 17,
      "metadata": {
        "colab": {
          "base_uri": "https://localhost:8080/"
        },
        "id": "RoMgVSLBx3ct",
        "outputId": "0c770cea-c565-49c6-e3fe-f7c421853e9a"
      },
      "outputs": [
        {
          "output_type": "stream",
          "name": "stdout",
          "text": [
            "Accuracy Logistic Regression Ridge: 0.9413804709812006\n",
            "Test Error Logistic Regression Ridge: 0.05861952901879941\n"
          ]
        }
      ],
      "source": [
        "#regParam = 0.1, elasticNetParam = 0(Ridge regression, L2 penalty) res\n",
        "accuracy_LogisticRegression_2 = evaluator.evaluate(predictions_lr_2)\n",
        "print(\"Accuracy Logistic Regression Ridge: {}\".format(accuracy_LogisticRegression_2))\n",
        "print(\"Test Error Logistic Regression Ridge: {}\".format(1.0 - accuracy_LogisticRegression_2))"
      ]
    },
    {
      "cell_type": "code",
      "execution_count": 18,
      "metadata": {
        "colab": {
          "base_uri": "https://localhost:8080/"
        },
        "id": "9Z2AZd7K2s_h",
        "outputId": "d93feeb4-fbc7-40e7-bf98-badeabd63c0d"
      },
      "outputs": [
        {
          "output_type": "stream",
          "name": "stdout",
          "text": [
            "Accuracy Logistic Regression LASSO: 0.9469120675279439\n",
            "Test Error Logistic Regression LASSO: 0.05308793247205612\n"
          ]
        }
      ],
      "source": [
        "#regParam = 0.1, elasticNetParam = 1(LASSO, L1 penalty) res\n",
        "accuracy_LogisticRegression_3 = evaluator.evaluate(predictions_lr_3)\n",
        "print(\"Accuracy Logistic Regression LASSO: {}\".format(accuracy_LogisticRegression_3))\n",
        "print(\"Test Error Logistic Regression LASSO: {}\".format(1.0 - accuracy_LogisticRegression_3))"
      ]
    },
    {
      "cell_type": "code",
      "execution_count": 19,
      "metadata": {
        "colab": {
          "base_uri": "https://localhost:8080/"
        },
        "id": "zptwgnHnyiv7",
        "outputId": "759ded9b-66fa-4dac-9e8d-e9b9a767e220"
      },
      "outputs": [
        {
          "output_type": "stream",
          "name": "stdout",
          "text": [
            "Accuracy Logistic Regression Elastic net: 0.9467042700918334\n",
            "Test Error Logistic Regression Elastic net: 0.053295729908166556\n"
          ]
        }
      ],
      "source": [
        "#regParam = 0.1, elasticNetParam = 0.6(Elastic net, L1+L2 penalty) res\n",
        "accuracy_LogisticRegression_4 = evaluator.evaluate(predictions_lr_4)\n",
        "print(\"Accuracy Logistic Regression Elastic net: {}\".format(accuracy_LogisticRegression_4))\n",
        "print(\"Test Error Logistic Regression Elastic net: {}\".format(1.0 - accuracy_LogisticRegression_4))"
      ]
    },
    {
      "cell_type": "markdown",
      "metadata": {
        "id": "Zjr6yiRZD5W0"
      },
      "source": [
        "# 2. Decision Tree Classifier"
      ]
    },
    {
      "cell_type": "markdown",
      "metadata": {
        "id": "_vIfi20f-6Ev"
      },
      "source": [
        "Train"
      ]
    },
    {
      "cell_type": "code",
      "execution_count": 20,
      "metadata": {
        "colab": {
          "base_uri": "https://localhost:8080/"
        },
        "id": "Gzn7SaO8ELAz",
        "outputId": "62ba55cd-2717-4556-d7dd-c2233f114587"
      },
      "outputs": [
        {
          "output_type": "stream",
          "name": "stdout",
          "text": [
            "+--------------------+-----+----------------+--------------------+----------+\n",
            "|            features|label|   rawPrediction|         probability|prediction|\n",
            "+--------------------+-----+----------------+--------------------+----------+\n",
            "|[-3.2185342708315...|    0|[10940.0,2470.0]|[0.81580909768829...|       0.0|\n",
            "|[-2.9960414574330...|    0|  [364.0,1455.0]|[0.20010995052226...|       1.0|\n",
            "|[-2.8478753009614...|    0|[10940.0,2470.0]|[0.81580909768829...|       0.0|\n",
            "|[-2.7525361764288...|    0|[10940.0,2470.0]|[0.81580909768829...|       0.0|\n",
            "|[-2.7110079759018...|    0|   [813.0,165.0]|[0.83128834355828...|       0.0|\n",
            "+--------------------+-----+----------------+--------------------+----------+\n",
            "only showing top 5 rows\n",
            "\n"
          ]
        }
      ],
      "source": [
        "from pyspark.ml.classification import DecisionTreeClassifier\n",
        "\n",
        "#default\n",
        "dt = DecisionTreeClassifier(labelCol = \"label\", featuresCol = \"features\", maxDepth=5)\n",
        "dtm = dt.fit(train)\n",
        "predictions_dt = dtm.transform(test)\n",
        "predictions_dt.show(5)"
      ]
    },
    {
      "cell_type": "code",
      "execution_count": 21,
      "metadata": {
        "colab": {
          "base_uri": "https://localhost:8080/"
        },
        "id": "vfjOjekk8ZVD",
        "outputId": "bfe42987-9871-42ef-de2c-04e8746a87cf"
      },
      "outputs": [
        {
          "output_type": "stream",
          "name": "stdout",
          "text": [
            "+--------------------+-----+--------------+--------------------+----------+\n",
            "|            features|label| rawPrediction|         probability|prediction|\n",
            "+--------------------+-----+--------------+--------------------+----------+\n",
            "|[-3.2185342708315...|    0|    [54.0,0.0]|           [1.0,0.0]|       0.0|\n",
            "|[-2.9960414574330...|    0|    [72.0,0.0]|           [1.0,0.0]|       0.0|\n",
            "|[-2.8478753009614...|    0|[1406.0,144.0]|[0.90709677419354...|       0.0|\n",
            "|[-2.7525361764288...|    0|    [35.0,0.0]|           [1.0,0.0]|       0.0|\n",
            "|[-2.7110079759018...|    0|   [561.0,0.0]|           [1.0,0.0]|       0.0|\n",
            "+--------------------+-----+--------------+--------------------+----------+\n",
            "only showing top 5 rows\n",
            "\n"
          ]
        }
      ],
      "source": [
        "#maxDepth = 10\n",
        "dt_1 = DecisionTreeClassifier(labelCol = \"label\", featuresCol = \"features\", maxDepth=10)\n",
        "dtm_1 = dt_1.fit(train)\n",
        "predictions_dt_1 = dtm_1.transform(test)\n",
        "predictions_dt_1.show(5)"
      ]
    },
    {
      "cell_type": "code",
      "execution_count": 22,
      "metadata": {
        "colab": {
          "base_uri": "https://localhost:8080/"
        },
        "id": "q5wiNOuq8ZxN",
        "outputId": "9fff9367-05bf-45f4-87e7-a94db55aff26"
      },
      "outputs": [
        {
          "output_type": "stream",
          "name": "stdout",
          "text": [
            "+--------------------+-----+-------------+-----------+----------+\n",
            "|            features|label|rawPrediction|probability|prediction|\n",
            "+--------------------+-----+-------------+-----------+----------+\n",
            "|[-3.2185342708315...|    0|   [54.0,0.0]|  [1.0,0.0]|       0.0|\n",
            "|[-2.9960414574330...|    0|   [72.0,0.0]|  [1.0,0.0]|       0.0|\n",
            "|[-2.8478753009614...|    0|  [213.0,0.0]|  [1.0,0.0]|       0.0|\n",
            "|[-2.7525361764288...|    0|   [35.0,0.0]|  [1.0,0.0]|       0.0|\n",
            "|[-2.7110079759018...|    0|  [561.0,0.0]|  [1.0,0.0]|       0.0|\n",
            "+--------------------+-----+-------------+-----------+----------+\n",
            "only showing top 5 rows\n",
            "\n"
          ]
        }
      ],
      "source": [
        "#maxDepth = 30(maximum)\n",
        "dt_2 = DecisionTreeClassifier(labelCol = \"label\", featuresCol = \"features\", maxDepth=30)\n",
        "dtm_2 = dt_2.fit(train)\n",
        "predictions_dt_2 = dtm_2.transform(test)\n",
        "predictions_dt_2.show(5)"
      ]
    },
    {
      "cell_type": "code",
      "execution_count": 23,
      "metadata": {
        "colab": {
          "base_uri": "https://localhost:8080/"
        },
        "id": "xso14pt5-hD-",
        "outputId": "7884404a-0740-421d-ec1a-c6d73a6d917b"
      },
      "outputs": [
        {
          "output_type": "stream",
          "name": "stdout",
          "text": [
            "+--------------------+-----+-------------------+--------------------+----------+\n",
            "|            features|label|      rawPrediction|         probability|prediction|\n",
            "+--------------------+-----+-------------------+--------------------+----------+\n",
            "|[-3.2185342708315...|    0|[213119.0,212997.0]|[0.50014315350749...|       0.0|\n",
            "|[-2.9960414574330...|    0|[213119.0,212997.0]|[0.50014315350749...|       0.0|\n",
            "|[-2.8478753009614...|    0|[213119.0,212997.0]|[0.50014315350749...|       0.0|\n",
            "|[-2.7525361764288...|    0|[213119.0,212997.0]|[0.50014315350749...|       0.0|\n",
            "|[-2.7110079759018...|    0|[213119.0,212997.0]|[0.50014315350749...|       0.0|\n",
            "+--------------------+-----+-------------------+--------------------+----------+\n",
            "only showing top 5 rows\n",
            "\n"
          ]
        }
      ],
      "source": [
        "#maxDepth = 0(minimum)\n",
        "dt_3 = DecisionTreeClassifier(labelCol = \"label\", featuresCol = \"features\", maxDepth=0)\n",
        "dtm_3 = dt_3.fit(train)\n",
        "predictions_dt_3 = dtm_3.transform(test)\n",
        "predictions_dt_3.show(5)"
      ]
    },
    {
      "cell_type": "markdown",
      "metadata": {
        "id": "oSgTJIBAI0I_"
      },
      "source": [
        "Test"
      ]
    },
    {
      "cell_type": "code",
      "execution_count": 24,
      "metadata": {
        "colab": {
          "base_uri": "https://localhost:8080/"
        },
        "id": "xIo0scpRI1qK",
        "outputId": "ecf6deed-3f57-48a7-c2e3-261d439b6016"
      },
      "outputs": [
        {
          "output_type": "stream",
          "name": "stdout",
          "text": [
            "Accuracy Decision Tree default: 0.9598853033700507\n",
            "Test Error Decision Tree default: 0.040114696629949265\n"
          ]
        }
      ],
      "source": [
        "#default\n",
        "evaluator = MulticlassClassificationEvaluator(labelCol=\"label\", predictionCol=\"prediction\")\n",
        "accuracy_DecisionTree = evaluator.evaluate(predictions_dt)\n",
        "print(\"Accuracy Decision Tree default: {}\".format(accuracy_DecisionTree))\n",
        "print(\"Test Error Decision Tree default: {}\".format(1.0 - accuracy_DecisionTree))"
      ]
    },
    {
      "cell_type": "code",
      "execution_count": 25,
      "metadata": {
        "colab": {
          "base_uri": "https://localhost:8080/"
        },
        "id": "QnDbhf728aJ2",
        "outputId": "b3fb7946-bd00-4af7-d727-5ae95b68d6e3"
      },
      "outputs": [
        {
          "output_type": "stream",
          "name": "stdout",
          "text": [
            "Accuracy Decision Tree depth 10: 0.9858399138596259\n",
            "Test ErrorDecision Tree depth 10: 0.014160086140374117\n"
          ]
        }
      ],
      "source": [
        "#maxDepth = 10 res\n",
        "accuracy_DecisionTree_1 = evaluator.evaluate(predictions_dt_1)\n",
        "print(\"Accuracy Decision Tree depth 10: {}\".format(accuracy_DecisionTree_1))\n",
        "print(\"Test ErrorDecision Tree depth 10: {}\".format(1.0 - accuracy_DecisionTree_1))"
      ]
    },
    {
      "cell_type": "code",
      "execution_count": 26,
      "metadata": {
        "colab": {
          "base_uri": "https://localhost:8080/"
        },
        "id": "Vqp34XUX8aVp",
        "outputId": "70fbaae7-70cd-47c7-c2e5-2015736dd28f"
      },
      "outputs": [
        {
          "output_type": "stream",
          "name": "stdout",
          "text": [
            "Accuracy Decision Tree depth max: 0.9984983896725328\n",
            "Test Error Decision Tree depth max: 0.0015016103274672066\n"
          ]
        }
      ],
      "source": [
        "#maxDepth = 30 res\n",
        "accuracy_DecisionTree_2 = evaluator.evaluate(predictions_dt_2)\n",
        "print(\"Accuracy Decision Tree depth max: {}\".format(accuracy_DecisionTree_2))\n",
        "print(\"Test Error Decision Tree depth max: {}\".format(1.0 - accuracy_DecisionTree_2))"
      ]
    },
    {
      "cell_type": "code",
      "execution_count": 27,
      "metadata": {
        "colab": {
          "base_uri": "https://localhost:8080/"
        },
        "id": "p1S9UwlT-b6M",
        "outputId": "f7d461ed-fa9b-432c-d0ee-c0e12773004a"
      },
      "outputs": [
        {
          "output_type": "stream",
          "name": "stdout",
          "text": [
            "Accuracy Decision Tree depth min: 0.33285785512812255\n",
            "Test Error Decision Tree depth min: 0.6671421448718775\n"
          ]
        }
      ],
      "source": [
        "#maxDepth = 0 res\n",
        "accuracy_DecisionTree_3 = evaluator.evaluate(predictions_dt_3)\n",
        "print(\"Accuracy Decision Tree depth min: {}\".format(accuracy_DecisionTree_3))\n",
        "print(\"Test Error Decision Tree depth min: {}\".format(1.0 - accuracy_DecisionTree_3))"
      ]
    },
    {
      "cell_type": "markdown",
      "metadata": {
        "id": "TfT26KQOELij"
      },
      "source": [
        "# 3. Random Forest Classifier"
      ]
    },
    {
      "cell_type": "markdown",
      "metadata": {
        "id": "4zRCuYGGJVyq"
      },
      "source": [
        "Train"
      ]
    },
    {
      "cell_type": "code",
      "execution_count": 28,
      "metadata": {
        "colab": {
          "base_uri": "https://localhost:8080/"
        },
        "id": "Ihd88LjxJVF8",
        "outputId": "09ab24ef-0c7c-4092-f7ad-fbcbcece9014"
      },
      "outputs": [
        {
          "output_type": "stream",
          "name": "stdout",
          "text": [
            "+--------------------+-----+--------------------+--------------------+----------+\n",
            "|            features|label|       rawPrediction|         probability|prediction|\n",
            "+--------------------+-----+--------------------+--------------------+----------+\n",
            "|[-3.2185342708315...|    0|[10.9453282452863...|[0.54726641226431...|       0.0|\n",
            "|[-2.9960414574330...|    0|[10.7387660388963...|[0.53693830194481...|       0.0|\n",
            "|[-2.8478753009614...|    0|[11.8629396377095...|[0.59314698188547...|       0.0|\n",
            "|[-2.7525361764288...|    0|[12.7124307094396...|[0.63562153547198...|       0.0|\n",
            "|[-2.7110079759018...|    0|[12.5392146643015...|[0.62696073321507...|       0.0|\n",
            "+--------------------+-----+--------------------+--------------------+----------+\n",
            "only showing top 5 rows\n",
            "\n"
          ]
        }
      ],
      "source": [
        "from pyspark.ml.classification import RandomForestClassifier\n",
        "\n",
        "#default\n",
        "rf = RandomForestClassifier(labelCol = \"label\", featuresCol = \"features\", maxDepth=5)\n",
        "rfm = rf.fit(train)\n",
        "predictions_rf = rfm.transform(test)\n",
        "predictions_rf.show(5)"
      ]
    },
    {
      "cell_type": "code",
      "execution_count": 29,
      "metadata": {
        "colab": {
          "base_uri": "https://localhost:8080/"
        },
        "id": "z5PAY764oWKY",
        "outputId": "22946692-20b7-4883-9cdf-edf9f49beb24"
      },
      "outputs": [
        {
          "output_type": "stream",
          "name": "stdout",
          "text": [
            "+--------------------+-----+--------------------+--------------------+----------+\n",
            "|            features|label|       rawPrediction|         probability|prediction|\n",
            "+--------------------+-----+--------------------+--------------------+----------+\n",
            "|[-3.2185342708315...|    0|[18.8046809699632...|[0.94023404849816...|       0.0|\n",
            "|[-2.9960414574330...|    0|          [20.0,0.0]|           [1.0,0.0]|       0.0|\n",
            "|[-2.8478753009614...|    0|[18.8093391352013...|[0.94046695676006...|       0.0|\n",
            "|[-2.7525361764288...|    0|[19.1650880973328...|[0.95825440486664...|       0.0|\n",
            "|[-2.7110079759018...|    0|[19.8855055324629...|[0.99427527662314...|       0.0|\n",
            "+--------------------+-----+--------------------+--------------------+----------+\n",
            "only showing top 5 rows\n",
            "\n"
          ]
        }
      ],
      "source": [
        "#depth = 10\n",
        "rf_1 = RandomForestClassifier(labelCol = \"label\", featuresCol = \"features\", maxDepth=10)\n",
        "rfm_1 = rf_1.fit(train)\n",
        "predictions_rf_1 = rfm_1.transform(test)\n",
        "predictions_rf_1.show(5)"
      ]
    },
    {
      "cell_type": "code",
      "execution_count": 30,
      "metadata": {
        "colab": {
          "base_uri": "https://localhost:8080/"
        },
        "id": "gcbsBSFKod7l",
        "outputId": "4912d6e7-5df0-4baa-8f5f-52672c90b108"
      },
      "outputs": [
        {
          "output_type": "stream",
          "name": "stdout",
          "text": [
            "+--------------------+-----+-------------+-----------+----------+\n",
            "|            features|label|rawPrediction|probability|prediction|\n",
            "+--------------------+-----+-------------+-----------+----------+\n",
            "|[-3.2185342708315...|    0|   [20.0,0.0]|  [1.0,0.0]|       0.0|\n",
            "|[-2.9960414574330...|    0|   [20.0,0.0]|  [1.0,0.0]|       0.0|\n",
            "|[-2.8478753009614...|    0|   [20.0,0.0]|  [1.0,0.0]|       0.0|\n",
            "|[-2.7525361764288...|    0|   [20.0,0.0]|  [1.0,0.0]|       0.0|\n",
            "|[-2.7110079759018...|    0|   [20.0,0.0]|  [1.0,0.0]|       0.0|\n",
            "+--------------------+-----+-------------+-----------+----------+\n",
            "only showing top 5 rows\n",
            "\n"
          ]
        }
      ],
      "source": [
        "#depth = 30(maximum)\n",
        "rf_2 = RandomForestClassifier(labelCol = \"label\", featuresCol = \"features\", maxDepth=30)\n",
        "rfm_2 = rf_2.fit(train)\n",
        "predictions_rf_2 = rfm_2.transform(test)\n",
        "predictions_rf_2.show(5)"
      ]
    },
    {
      "cell_type": "code",
      "execution_count": 31,
      "metadata": {
        "colab": {
          "base_uri": "https://localhost:8080/"
        },
        "id": "0tzd7RGyrisd",
        "outputId": "f2949c48-3def-47f8-ead1-bf0817c0d5c6"
      },
      "outputs": [
        {
          "output_type": "stream",
          "name": "stdout",
          "text": [
            "+--------------------+-----+--------------------+--------------------+----------+\n",
            "|            features|label|       rawPrediction|         probability|prediction|\n",
            "+--------------------+-----+--------------------+--------------------+----------+\n",
            "|[-3.2185342708315...|    0|[10.0034573367346...|[0.50017286683673...|       0.0|\n",
            "|[-2.9960414574330...|    0|[10.0034573367346...|[0.50017286683673...|       0.0|\n",
            "|[-2.8478753009614...|    0|[10.0034573367346...|[0.50017286683673...|       0.0|\n",
            "|[-2.7525361764288...|    0|[10.0034573367346...|[0.50017286683673...|       0.0|\n",
            "|[-2.7110079759018...|    0|[10.0034573367346...|[0.50017286683673...|       0.0|\n",
            "+--------------------+-----+--------------------+--------------------+----------+\n",
            "only showing top 5 rows\n",
            "\n"
          ]
        }
      ],
      "source": [
        "#depth = 0(minimum)\n",
        "rf_3 = RandomForestClassifier(labelCol = \"label\", featuresCol = \"features\", maxDepth=0)\n",
        "rfm_3 = rf_3.fit(train)\n",
        "predictions_rf_3 = rfm_3.transform(test)\n",
        "predictions_rf_3.show(5)"
      ]
    },
    {
      "cell_type": "markdown",
      "metadata": {
        "id": "kyEMyZETKAsA"
      },
      "source": [
        "Test"
      ]
    },
    {
      "cell_type": "code",
      "execution_count": 32,
      "metadata": {
        "id": "J8VCpZAcKBmh",
        "colab": {
          "base_uri": "https://localhost:8080/"
        },
        "outputId": "49ca715d-3267-4200-cbf6-34ef68b6e182"
      },
      "outputs": [
        {
          "output_type": "stream",
          "name": "stdout",
          "text": [
            "Accuracy Random Forest default: 0.9540909492273943\n",
            "Test Error Random Forest default: 0.04590905077260565\n"
          ]
        }
      ],
      "source": [
        "#default res\n",
        "evaluator = MulticlassClassificationEvaluator(labelCol=\"label\", predictionCol=\"prediction\")\n",
        "accuracy_RandomForest = evaluator.evaluate(predictions_rf)\n",
        "print(\"Accuracy Random Forest default: {}\".format(accuracy_RandomForest))\n",
        "print(\"Test Error Random Forest default: {}\".format(1.0 - accuracy_RandomForest))"
      ]
    },
    {
      "cell_type": "code",
      "execution_count": 33,
      "metadata": {
        "colab": {
          "base_uri": "https://localhost:8080/"
        },
        "id": "7wiPJF7V2KjX",
        "outputId": "ad793a26-9602-4afe-c604-4b178f62a227"
      },
      "outputs": [
        {
          "output_type": "stream",
          "name": "stdout",
          "text": [
            "Accuracy Random Forest depth 10: 0.9835281755334113\n",
            "Test Error Random Forest depth 10: 0.01647182446658868\n"
          ]
        }
      ],
      "source": [
        "#depth 10 res\n",
        "accuracy_RandomForest_1 = evaluator.evaluate(predictions_rf_1)\n",
        "print(\"Accuracy Random Forest depth 10: {}\".format(accuracy_RandomForest_1))\n",
        "print(\"Test Error Random Forest depth 10: {}\".format(1.0 - accuracy_RandomForest_1))"
      ]
    },
    {
      "cell_type": "code",
      "execution_count": 34,
      "metadata": {
        "colab": {
          "base_uri": "https://localhost:8080/"
        },
        "id": "y78ttNRxsj8g",
        "outputId": "2831eca3-365c-4a63-e90c-c8ffc9da5ef4"
      },
      "outputs": [
        {
          "output_type": "stream",
          "name": "stdout",
          "text": [
            "Accuracy Random Forest depth 30: 0.9998666797472096\n",
            "Test Error Random Forest depth 30: 0.00013332025279044757\n"
          ]
        }
      ],
      "source": [
        "#depth 30(maximum) res\n",
        "accuracy_RandomForest_2 = evaluator.evaluate(predictions_rf_2)\n",
        "print(\"Accuracy Random Forest depth 30: {}\".format(accuracy_RandomForest_2))\n",
        "print(\"Test Error Random Forest depth 30: {}\".format(1.0 - accuracy_RandomForest_2))"
      ]
    },
    {
      "cell_type": "code",
      "execution_count": 35,
      "metadata": {
        "colab": {
          "base_uri": "https://localhost:8080/"
        },
        "id": "hvDoHjvkskac",
        "outputId": "5be19790-173e-4567-d16c-46b3321930dc"
      },
      "outputs": [
        {
          "output_type": "stream",
          "name": "stdout",
          "text": [
            "Accuracy Random Forest depth 0: 0.33285785512812255\n",
            "Test Error Random Forest depth 0: 0.6671421448718775\n"
          ]
        }
      ],
      "source": [
        "#depth 0(minimum) res\n",
        "accuracy_RandomForest_3 = evaluator.evaluate(predictions_rf_3)\n",
        "print(\"Accuracy Random Forest depth 0: {}\".format(accuracy_RandomForest_3))\n",
        "print(\"Test Error Random Forest depth 0: {}\".format(1.0 - accuracy_RandomForest_3))"
      ]
    },
    {
      "cell_type": "markdown",
      "metadata": {
        "id": "enfdt2fbERKo"
      },
      "source": [
        "# 4. Multi-Layer Perceptron Classifier"
      ]
    },
    {
      "cell_type": "markdown",
      "metadata": {
        "id": "Bfxl_qIOLI3h"
      },
      "source": [
        "Train"
      ]
    },
    {
      "cell_type": "code",
      "execution_count": 36,
      "metadata": {
        "id": "8dfEs6GxETxU",
        "colab": {
          "base_uri": "https://localhost:8080/"
        },
        "outputId": "d915e423-b48e-4036-99df-8a81967f7998"
      },
      "outputs": [
        {
          "output_type": "stream",
          "name": "stdout",
          "text": [
            "+--------------------+-----+--------------------+--------------------+----------+\n",
            "|            features|label|       rawPrediction|         probability|prediction|\n",
            "+--------------------+-----+--------------------+--------------------+----------+\n",
            "|[-3.2185342708315...|    0|[-3.9944091266405...|[0.00100620535295...|       1.0|\n",
            "|[-2.9960414574330...|    0|[7.37166243684216...|[0.99999891339389...|       0.0|\n",
            "|[-2.8478753009614...|    0|[6.04098720162939...|[0.99998682091777...|       0.0|\n",
            "|[-2.7525361764288...|    0|[3.03768437890778...|[0.99641851802168...|       0.0|\n",
            "|[-2.7110079759018...|    0|[3.39736137529071...|[0.99812972129028...|       0.0|\n",
            "+--------------------+-----+--------------------+--------------------+----------+\n",
            "only showing top 5 rows\n",
            "\n"
          ]
        }
      ],
      "source": [
        "from pyspark.ml.classification import MultilayerPerceptronClassifier\n",
        "\n",
        "#default except layers because no default layers avaiable\n",
        "#layers with 22 inputs, 2 hidden layers with 12 and 6 neurons and output of neurons\n",
        "#default solver = l-bfgs\n",
        "mlp = MultilayerPerceptronClassifier(labelCol = \"label\", featuresCol = \"features\", maxIter=100, layers=[22, 12, 6, 2])\n",
        "mlpm = mlp.fit(train)\n",
        "predictions_mlp = mlpm.transform(test)\n",
        "predictions_mlp.show(5)"
      ]
    },
    {
      "cell_type": "code",
      "execution_count": 37,
      "metadata": {
        "id": "9tM8Pzsw4hxn",
        "colab": {
          "base_uri": "https://localhost:8080/"
        },
        "outputId": "914e7946-9431-4503-805f-4e6b0aa550d0"
      },
      "outputs": [
        {
          "output_type": "stream",
          "name": "stdout",
          "text": [
            "+--------------------+-----+--------------------+--------------------+----------+\n",
            "|            features|label|       rawPrediction|         probability|prediction|\n",
            "+--------------------+-----+--------------------+--------------------+----------+\n",
            "|[-3.2185342708315...|    0|[6.89933442573415...|[0.99999986715252...|       0.0|\n",
            "|[-2.9960414574330...|    0|[6.59579687612211...|[0.99999676281284...|       0.0|\n",
            "|[-2.8478753009614...|    0|[8.40378991111519...|[0.99999998626193...|       0.0|\n",
            "|[-2.7525361764288...|    0|[-0.2865970705526...|[0.78918869143763...|       0.0|\n",
            "|[-2.7110079759018...|    0|[6.13057754766291...|[0.99999812356329...|       0.0|\n",
            "+--------------------+-----+--------------------+--------------------+----------+\n",
            "only showing top 5 rows\n",
            "\n"
          ]
        }
      ],
      "source": [
        "#maxIter = 500\n",
        "mlp_1 = MultilayerPerceptronClassifier(labelCol = \"label\", featuresCol = \"features\", maxIter=500, layers=[22, 12, 6, 2])\n",
        "mlpm_1 = mlp_1.fit(train)\n",
        "predictions_mlp_1 = mlpm_1.transform(test)\n",
        "predictions_mlp_1.show(5)"
      ]
    },
    {
      "cell_type": "code",
      "execution_count": 38,
      "metadata": {
        "id": "dphqXzv1evTK",
        "colab": {
          "base_uri": "https://localhost:8080/"
        },
        "outputId": "d8b9f293-ed79-4a10-c9a0-9f800937de26"
      },
      "outputs": [
        {
          "output_type": "stream",
          "name": "stdout",
          "text": [
            "+--------------------+-----+--------------------+--------------------+----------+\n",
            "|            features|label|       rawPrediction|         probability|prediction|\n",
            "+--------------------+-----+--------------------+--------------------+----------+\n",
            "|[-3.2185342708315...|    0|[-0.6871554274002...|[0.49802744443586...|       1.0|\n",
            "|[-2.9960414574330...|    0|[-0.6676937840017...|[0.52128899862387...|       0.0|\n",
            "|[-2.8478753009614...|    0|[-0.6564516164848...|[0.52020034178721...|       0.0|\n",
            "|[-2.7525361764288...|    0|[-0.6834339166792...|[0.49921460214134...|       1.0|\n",
            "|[-2.7110079759018...|    0|[-0.6865898421149...|[0.49920285957505...|       1.0|\n",
            "+--------------------+-----+--------------------+--------------------+----------+\n",
            "only showing top 5 rows\n",
            "\n"
          ]
        }
      ],
      "source": [
        "#layers with 22 inputs, 3 hidden layers with 20, 10 and 5 neurons and output of 2 neurons\n",
        "mlp_2 = MultilayerPerceptronClassifier(labelCol = \"label\", featuresCol = \"features\", maxIter=100, layers=[22, 20, 10, 5, 2])\n",
        "mlpm_2 = mlp_2.fit(train)\n",
        "predictions_mlp_2 = mlpm_2.transform(test)\n",
        "predictions_mlp_2.show(5)"
      ]
    },
    {
      "cell_type": "code",
      "execution_count": 39,
      "metadata": {
        "id": "3pUVHUAJQ50N",
        "colab": {
          "base_uri": "https://localhost:8080/"
        },
        "outputId": "2532da90-e029-486a-9d05-84c0dc8536db"
      },
      "outputs": [
        {
          "output_type": "stream",
          "name": "stdout",
          "text": [
            "+--------------------+-----+--------------------+--------------------+----------+\n",
            "|            features|label|       rawPrediction|         probability|prediction|\n",
            "+--------------------+-----+--------------------+--------------------+----------+\n",
            "|[-3.2185342708315...|    0|[0.08205605990952...|[0.5655690893559,...|       0.0|\n",
            "|[-2.9960414574330...|    0|[0.08527649598135...|[0.54300162793299...|       0.0|\n",
            "|[-2.8478753009614...|    0|[-0.3275012314362...|[0.46668805159487...|       1.0|\n",
            "|[-2.7525361764288...|    0|[-0.0065129382371...|[0.50768107969056...|       0.0|\n",
            "|[-2.7110079759018...|    0|[0.05166931885853...|[0.56717960178812...|       0.0|\n",
            "+--------------------+-----+--------------------+--------------------+----------+\n",
            "only showing top 5 rows\n",
            "\n"
          ]
        }
      ],
      "source": [
        "#solver = gd(gradient descent)\n",
        "mlp_3 = MultilayerPerceptronClassifier(labelCol = \"label\", featuresCol = \"features\", maxIter=100, layers=[22, 12, 6, 2], solver = \"gd\")\n",
        "mlpm_3 = mlp_3.fit(train)\n",
        "predictions_mlp_3 = mlpm_3.transform(test)\n",
        "predictions_mlp_3.show(5)"
      ]
    },
    {
      "cell_type": "code",
      "execution_count": 40,
      "metadata": {
        "id": "WgUVX0CiRlDU",
        "colab": {
          "base_uri": "https://localhost:8080/"
        },
        "outputId": "4fbe4416-2285-469d-aa1c-a6f3c77f0295"
      },
      "outputs": [
        {
          "output_type": "stream",
          "name": "stdout",
          "text": [
            "+--------------------+-----+--------------------+--------------------+----------+\n",
            "|            features|label|       rawPrediction|         probability|prediction|\n",
            "+--------------------+-----+--------------------+--------------------+----------+\n",
            "|[-3.2185342708315...|    0|[0.27858198248151...|[0.47505613746433...|       1.0|\n",
            "|[-2.9960414574330...|    0|[0.27764041458492...|[0.47461353637459...|       1.0|\n",
            "|[-2.8478753009614...|    0|[0.27764042618620...|[0.47461354171834...|       1.0|\n",
            "|[-2.7525361764288...|    0|[0.27763909088687...|[0.47461273102254...|       1.0|\n",
            "|[-2.7110079759018...|    0|[0.63424762271717...|[0.63920625551147...|       0.0|\n",
            "+--------------------+-----+--------------------+--------------------+----------+\n",
            "only showing top 5 rows\n",
            "\n"
          ]
        }
      ],
      "source": [
        "#layers with 22 inputs, 3 hidden layers with 16, 8 and 4 neurons and output of 2 neurons\n",
        "mlp_4 = MultilayerPerceptronClassifier(labelCol = \"label\", featuresCol = \"features\", maxIter=100, layers=[22, 16, 8, 4, 2])\n",
        "mlpm_4 = mlp_4.fit(train)\n",
        "predictions_mlp_4 = mlpm_4.transform(test)\n",
        "predictions_mlp_4.show(5)"
      ]
    },
    {
      "cell_type": "code",
      "execution_count": 41,
      "metadata": {
        "id": "s0TtaAtdfD73",
        "colab": {
          "base_uri": "https://localhost:8080/"
        },
        "outputId": "b0b16d44-e6cc-48ed-9419-3edd37bc9360"
      },
      "outputs": [
        {
          "output_type": "stream",
          "name": "stdout",
          "text": [
            "+--------------------+-----+--------------------+--------------------+----------+\n",
            "|            features|label|       rawPrediction|         probability|prediction|\n",
            "+--------------------+-----+--------------------+--------------------+----------+\n",
            "|[-3.2185342708315...|    0|[-0.1502408663548...|[0.50281725713380...|       0.0|\n",
            "|[-2.9960414574330...|    0|[-0.1563392781560...|[0.49911800507968...|       1.0|\n",
            "|[-2.8478753009614...|    0|[-0.2085622206065...|[0.49168154877287...|       1.0|\n",
            "|[-2.7525361764288...|    0|[-0.1901363817955...|[0.49322858654548...|       1.0|\n",
            "|[-2.7110079759018...|    0|[-0.1526540114718...|[0.49689125443064...|       1.0|\n",
            "+--------------------+-----+--------------------+--------------------+----------+\n",
            "only showing top 5 rows\n",
            "\n"
          ]
        }
      ],
      "source": [
        "#solver = gd(gradient descent), 3 hidden layers(16, 8, 4)\n",
        "mlp_5 = MultilayerPerceptronClassifier(labelCol = \"label\", featuresCol = \"features\", maxIter=100, layers=[22, 16, 8, 4, 2], solver = \"gd\")\n",
        "mlpm_5 = mlp_5.fit(train)\n",
        "predictions_mlp_5 = mlpm_5.transform(test)\n",
        "predictions_mlp_5.show(5)"
      ]
    },
    {
      "cell_type": "code",
      "execution_count": 42,
      "metadata": {
        "id": "q4Bbp96Ipf51",
        "colab": {
          "base_uri": "https://localhost:8080/"
        },
        "outputId": "23b9d572-e022-44a7-edc8-7f7c2a8677f7"
      },
      "outputs": [
        {
          "output_type": "stream",
          "name": "stdout",
          "text": [
            "+--------------------+-----+--------------------+--------------------+----------+\n",
            "|            features|label|       rawPrediction|         probability|prediction|\n",
            "+--------------------+-----+--------------------+--------------------+----------+\n",
            "|[-3.2185342708315...|    0|[-0.7064736034433...|[0.49019011830229...|       1.0|\n",
            "|[-2.9960414574330...|    0|[-0.6825199110837...|[0.51673260854760...|       0.0|\n",
            "|[-2.8478753009614...|    0|[-0.6717205699656...|[0.51535447781259...|       0.0|\n",
            "|[-2.7525361764288...|    0|[-0.7035155306009...|[0.49167362358566...|       1.0|\n",
            "|[-2.7110079759018...|    0|[-0.7054994104423...|[0.49168595910469...|       1.0|\n",
            "+--------------------+-----+--------------------+--------------------+----------+\n",
            "only showing top 5 rows\n",
            "\n"
          ]
        }
      ],
      "source": [
        "#solver = gd(gradient descent), 3 hidden layers(20, 10, 5)\n",
        "mlp_6 = MultilayerPerceptronClassifier(labelCol = \"label\", featuresCol = \"features\", maxIter=100, layers=[22, 20, 10, 5, 2], solver = \"gd\")\n",
        "mlpm_6 = mlp_6.fit(train)\n",
        "predictions_mlp_6 = mlpm_6.transform(test)\n",
        "predictions_mlp_6.show(5)"
      ]
    },
    {
      "cell_type": "code",
      "execution_count": 43,
      "metadata": {
        "id": "2Cs2v0vytplp",
        "colab": {
          "base_uri": "https://localhost:8080/"
        },
        "outputId": "aac61b86-a32b-42b1-8085-985fe9d5de52"
      },
      "outputs": [
        {
          "output_type": "stream",
          "name": "stdout",
          "text": [
            "+--------------------+-----+--------------------+--------------------+----------+\n",
            "|            features|label|       rawPrediction|         probability|prediction|\n",
            "+--------------------+-----+--------------------+--------------------+----------+\n",
            "|[-3.2185342708315...|    0|[9.34612127035358...|[0.99999998613997...|       0.0|\n",
            "|[-2.9960414574330...|    0|[4.63412467778263...|[0.99970123081706...|       0.0|\n",
            "|[-2.8478753009614...|    0|[9.16567941877629...|[0.99999997559550...|       0.0|\n",
            "|[-2.7525361764288...|    0|[10.4027951339990...|[0.99999999791193...|       0.0|\n",
            "|[-2.7110079759018...|    0|[12.5503342994692...|[0.99999999996842...|       0.0|\n",
            "+--------------------+-----+--------------------+--------------------+----------+\n",
            "only showing top 5 rows\n",
            "\n"
          ]
        }
      ],
      "source": [
        "#2 hidden layers(20, 10)\n",
        "mlp_7 = MultilayerPerceptronClassifier(labelCol = \"label\", featuresCol = \"features\", maxIter=100, layers=[22, 20, 10, 2])\n",
        "mlpm_7 = mlp_7.fit(train)\n",
        "predictions_mlp_7 = mlpm_7.transform(test)\n",
        "predictions_mlp_7.show(5)"
      ]
    },
    {
      "cell_type": "markdown",
      "metadata": {
        "id": "p0PLu-WkN-fA"
      },
      "source": [
        "Test"
      ]
    },
    {
      "cell_type": "code",
      "execution_count": 44,
      "metadata": {
        "id": "61D2r-MAN_dm",
        "colab": {
          "base_uri": "https://localhost:8080/"
        },
        "outputId": "681d6697-fb65-49d2-b451-540bc6e22e43"
      },
      "outputs": [
        {
          "output_type": "stream",
          "name": "stdout",
          "text": [
            "Accuracy Multilayer Perceptron default: 0.9821701689107478\n",
            "Test Error Multilayer Perceptron default: 0.01782983108925218\n"
          ]
        }
      ],
      "source": [
        "#default\n",
        "evaluator = MulticlassClassificationEvaluator(labelCol=\"label\", predictionCol=\"prediction\")\n",
        "accuracy_MultilayerPerceptron = evaluator.evaluate(predictions_mlp)\n",
        "print(\"Accuracy Multilayer Perceptron default: {}\".format(accuracy_MultilayerPerceptron))\n",
        "print(\"Test Error Multilayer Perceptron default: {}\".format(1.0 - accuracy_MultilayerPerceptron))"
      ]
    },
    {
      "cell_type": "code",
      "execution_count": 45,
      "metadata": {
        "id": "xrPKP-ZGR1Pi",
        "colab": {
          "base_uri": "https://localhost:8080/"
        },
        "outputId": "4b1e0e50-f71d-46c1-f32a-1dde28cc11bf"
      },
      "outputs": [
        {
          "output_type": "stream",
          "name": "stdout",
          "text": [
            "Accuracy Multilayer Perceptron 500 iter: 0.9935163939256189\n",
            "Test Error Multilayer Perceptron 500 iter: 0.006483606074381143\n"
          ]
        }
      ],
      "source": [
        "#maxIter = 500 res\n",
        "accuracy_MultilayerPerceptron_1 = evaluator.evaluate(predictions_mlp_1)\n",
        "print(\"Accuracy Multilayer Perceptron 500 iter: {}\".format(accuracy_MultilayerPerceptron_1))\n",
        "print(\"Test Error Multilayer Perceptron 500 iter: {}\".format(1.0 - accuracy_MultilayerPerceptron_1))"
      ]
    },
    {
      "cell_type": "code",
      "execution_count": 46,
      "metadata": {
        "id": "LX7fx12CSm9X",
        "colab": {
          "base_uri": "https://localhost:8080/"
        },
        "outputId": "11a27463-426c-405b-8d8a-66d04cf406a1"
      },
      "outputs": [
        {
          "output_type": "stream",
          "name": "stdout",
          "text": [
            "Accuracy Multilayer Perceptron 3 hidden layers(20, 10, 5): 0.8648796083111678\n",
            "Test Error Multilayer Perceptron 3 hidden layers(20, 10, 5): 0.13512039168883216\n"
          ]
        }
      ],
      "source": [
        "#layers with 22 inputs, 3 hidden layers(20, 10, 5) res\n",
        "accuracy_MultilayerPerceptron_2 = evaluator.evaluate(predictions_mlp_2)\n",
        "print(\"Accuracy Multilayer Perceptron 3 hidden layers(20, 10, 5): {}\".format(accuracy_MultilayerPerceptron_2))\n",
        "print(\"Test Error Multilayer Perceptron 3 hidden layers(20, 10, 5): {}\".format(1.0 - accuracy_MultilayerPerceptron_2))"
      ]
    },
    {
      "cell_type": "code",
      "execution_count": 47,
      "metadata": {
        "id": "7NUKzvNLSxER",
        "colab": {
          "base_uri": "https://localhost:8080/"
        },
        "outputId": "f0297fce-24cc-4b77-b9be-e935dd279caa"
      },
      "outputs": [
        {
          "output_type": "stream",
          "name": "stdout",
          "text": [
            "Accuracy Multilayer Perceptron gd: 0.7039063305295814\n",
            "Test Error Multilayer Perceptron gd: 0.2960936694704186\n"
          ]
        }
      ],
      "source": [
        "#solver = gd(gradient descent) res\n",
        "accuracy_MultilayerPerceptron_3 = evaluator.evaluate(predictions_mlp_3)\n",
        "print(\"Accuracy Multilayer Perceptron gd: {}\".format(accuracy_MultilayerPerceptron_3))\n",
        "print(\"Test Error Multilayer Perceptron gd: {}\".format(1.0 - accuracy_MultilayerPerceptron_3))"
      ]
    },
    {
      "cell_type": "code",
      "execution_count": 48,
      "metadata": {
        "id": "p_HalqjUS8zn",
        "colab": {
          "base_uri": "https://localhost:8080/"
        },
        "outputId": "22f905dd-9dd3-4f01-d9d9-0e7c8804f89e"
      },
      "outputs": [
        {
          "output_type": "stream",
          "name": "stdout",
          "text": [
            "Accuracy Multilayer Perceptron 3 hidden layers(16, 8, 4): 0.9602169003696972\n",
            "Test Error Multilayer Perceptron 3 hidden layers(16, 8, 4): 0.0397830996303028\n"
          ]
        }
      ],
      "source": [
        "#layers with 22 inputs, 3 hidden layers(16, 8, 4) res\n",
        "accuracy_MultilayerPerceptron_4 = evaluator.evaluate(predictions_mlp_4)\n",
        "print(\"Accuracy Multilayer Perceptron 3 hidden layers(16, 8, 4): {}\".format(accuracy_MultilayerPerceptron_4))\n",
        "print(\"Test Error Multilayer Perceptron 3 hidden layers(16, 8, 4): {}\".format(1.0 - accuracy_MultilayerPerceptron_4))"
      ]
    },
    {
      "cell_type": "code",
      "execution_count": 49,
      "metadata": {
        "id": "K2MwXqWYhVQY",
        "colab": {
          "base_uri": "https://localhost:8080/"
        },
        "outputId": "73c6610e-6c96-478c-aaa8-8e10fd0deba7"
      },
      "outputs": [
        {
          "output_type": "stream",
          "name": "stdout",
          "text": [
            "Accuracy Multilayer Perceptron 3 hidden layers(16, 8, 4) gd: 0.6314521838846452\n",
            "Test Error Multilayer Perceptron 3 hidden layers(16, 8, 4) gd: 0.3685478161153548\n"
          ]
        }
      ],
      "source": [
        "#solver = gd(gradient descent), 3 hidden layers(16, 8, 4) res\n",
        "accuracy_MultilayerPerceptron_5 = evaluator.evaluate(predictions_mlp_5)\n",
        "print(\"Accuracy Multilayer Perceptron 3 hidden layers(16, 8, 4) gd: {}\".format(accuracy_MultilayerPerceptron_5))\n",
        "print(\"Test Error Multilayer Perceptron 3 hidden layers(16, 8, 4) gd: {}\".format(1.0 - accuracy_MultilayerPerceptron_5))"
      ]
    },
    {
      "cell_type": "code",
      "execution_count": 50,
      "metadata": {
        "id": "PE8UDcOyo72W",
        "colab": {
          "base_uri": "https://localhost:8080/"
        },
        "outputId": "26e8385b-fa76-4f9d-f321-ec67b49595d9"
      },
      "outputs": [
        {
          "output_type": "stream",
          "name": "stdout",
          "text": [
            "Accuracy Multilayer Perceptron 3 hidden layers(20, 10, 5) gd: 0.876829036378034\n",
            "Test Error Multilayer Perceptron 3 hidden layers(20, 10, 5) gd: 0.123170963621966\n"
          ]
        }
      ],
      "source": [
        "#solver = gd(gradient descent), 3 hidden layers(20, 10, 5) res\n",
        "accuracy_MultilayerPerceptron_6 = evaluator.evaluate(predictions_mlp_6)\n",
        "print(\"Accuracy Multilayer Perceptron 3 hidden layers(20, 10, 5) gd: {}\".format(accuracy_MultilayerPerceptron_6))\n",
        "print(\"Test Error Multilayer Perceptron 3 hidden layers(20, 10, 5) gd: {}\".format(1.0 - accuracy_MultilayerPerceptron_6))"
      ]
    },
    {
      "cell_type": "code",
      "execution_count": 51,
      "metadata": {
        "id": "u93fgqhjt11x",
        "colab": {
          "base_uri": "https://localhost:8080/"
        },
        "outputId": "22d81e7a-f069-451d-f983-ea76076b6031"
      },
      "outputs": [
        {
          "output_type": "stream",
          "name": "stdout",
          "text": [
            "Accuracy Multilayer Perceptron 3 hidden layers(20, 10, 5) gd: 0.9906394623386809\n",
            "Test Error Multilayer Perceptron 3 hidden layers(20, 10, 5) gd: 0.009360537661319057\n"
          ]
        }
      ],
      "source": [
        "#2 hidden layers(20, 10) res\n",
        "accuracy_MultilayerPerceptron_7 = evaluator.evaluate(predictions_mlp_7)\n",
        "print(\"Accuracy Multilayer Perceptron 3 hidden layers(20, 10, 5) gd: {}\".format(accuracy_MultilayerPerceptron_7))\n",
        "print(\"Test Error Multilayer Perceptron 3 hidden layers(20, 10, 5) gd: {}\".format(1.0 - accuracy_MultilayerPerceptron_7))"
      ]
    },
    {
      "cell_type": "markdown",
      "metadata": {
        "id": "RtqgbfmgEWhp"
      },
      "source": [
        "# Evaluation"
      ]
    },
    {
      "cell_type": "code",
      "execution_count": 52,
      "metadata": {
        "id": "CUrp1uZeFCGR"
      },
      "outputs": [],
      "source": [
        "import seaborn as sns\n",
        "sns.set_style('white')\n",
        "import matplotlib.pyplot as plt\n",
        "plt.style.use(\"ggplot\")"
      ]
    },
    {
      "cell_type": "code",
      "execution_count": 55,
      "metadata": {
        "id": "HB8MDzXlEcxa",
        "colab": {
          "base_uri": "https://localhost:8080/",
          "height": 174
        },
        "outputId": "0f19279b-5050-4c3c-cc3f-a5d6feb958ce"
      },
      "outputs": [
        {
          "output_type": "execute_result",
          "data": {
            "text/plain": [
              "                        Model Name   Accuracy\n",
              "0      Logistic regression default  96.509773\n",
              "1           Decision tree depth 30  95.988530\n",
              "2           Random forest depth 30  95.409095\n",
              "3  Multi-layer perceptron 500 iter  98.217017"
            ],
            "text/html": [
              "\n",
              "  <div id=\"df-1d1201c1-44b6-4306-a4ec-5b461091209a\" class=\"colab-df-container\">\n",
              "    <div>\n",
              "<style scoped>\n",
              "    .dataframe tbody tr th:only-of-type {\n",
              "        vertical-align: middle;\n",
              "    }\n",
              "\n",
              "    .dataframe tbody tr th {\n",
              "        vertical-align: top;\n",
              "    }\n",
              "\n",
              "    .dataframe thead th {\n",
              "        text-align: right;\n",
              "    }\n",
              "</style>\n",
              "<table border=\"1\" class=\"dataframe\">\n",
              "  <thead>\n",
              "    <tr style=\"text-align: right;\">\n",
              "      <th></th>\n",
              "      <th>Model Name</th>\n",
              "      <th>Accuracy</th>\n",
              "    </tr>\n",
              "  </thead>\n",
              "  <tbody>\n",
              "    <tr>\n",
              "      <th>0</th>\n",
              "      <td>Logistic regression default</td>\n",
              "      <td>96.509773</td>\n",
              "    </tr>\n",
              "    <tr>\n",
              "      <th>1</th>\n",
              "      <td>Decision tree depth 30</td>\n",
              "      <td>95.988530</td>\n",
              "    </tr>\n",
              "    <tr>\n",
              "      <th>2</th>\n",
              "      <td>Random forest depth 30</td>\n",
              "      <td>95.409095</td>\n",
              "    </tr>\n",
              "    <tr>\n",
              "      <th>3</th>\n",
              "      <td>Multi-layer perceptron 500 iter</td>\n",
              "      <td>98.217017</td>\n",
              "    </tr>\n",
              "  </tbody>\n",
              "</table>\n",
              "</div>\n",
              "    <div class=\"colab-df-buttons\">\n",
              "\n",
              "  <div class=\"colab-df-container\">\n",
              "    <button class=\"colab-df-convert\" onclick=\"convertToInteractive('df-1d1201c1-44b6-4306-a4ec-5b461091209a')\"\n",
              "            title=\"Convert this dataframe to an interactive table.\"\n",
              "            style=\"display:none;\">\n",
              "\n",
              "  <svg xmlns=\"http://www.w3.org/2000/svg\" height=\"24px\" viewBox=\"0 -960 960 960\">\n",
              "    <path d=\"M120-120v-720h720v720H120Zm60-500h600v-160H180v160Zm220 220h160v-160H400v160Zm0 220h160v-160H400v160ZM180-400h160v-160H180v160Zm440 0h160v-160H620v160ZM180-180h160v-160H180v160Zm440 0h160v-160H620v160Z\"/>\n",
              "  </svg>\n",
              "    </button>\n",
              "\n",
              "  <style>\n",
              "    .colab-df-container {\n",
              "      display:flex;\n",
              "      gap: 12px;\n",
              "    }\n",
              "\n",
              "    .colab-df-convert {\n",
              "      background-color: #E8F0FE;\n",
              "      border: none;\n",
              "      border-radius: 50%;\n",
              "      cursor: pointer;\n",
              "      display: none;\n",
              "      fill: #1967D2;\n",
              "      height: 32px;\n",
              "      padding: 0 0 0 0;\n",
              "      width: 32px;\n",
              "    }\n",
              "\n",
              "    .colab-df-convert:hover {\n",
              "      background-color: #E2EBFA;\n",
              "      box-shadow: 0px 1px 2px rgba(60, 64, 67, 0.3), 0px 1px 3px 1px rgba(60, 64, 67, 0.15);\n",
              "      fill: #174EA6;\n",
              "    }\n",
              "\n",
              "    .colab-df-buttons div {\n",
              "      margin-bottom: 4px;\n",
              "    }\n",
              "\n",
              "    [theme=dark] .colab-df-convert {\n",
              "      background-color: #3B4455;\n",
              "      fill: #D2E3FC;\n",
              "    }\n",
              "\n",
              "    [theme=dark] .colab-df-convert:hover {\n",
              "      background-color: #434B5C;\n",
              "      box-shadow: 0px 1px 3px 1px rgba(0, 0, 0, 0.15);\n",
              "      filter: drop-shadow(0px 1px 2px rgba(0, 0, 0, 0.3));\n",
              "      fill: #FFFFFF;\n",
              "    }\n",
              "  </style>\n",
              "\n",
              "    <script>\n",
              "      const buttonEl =\n",
              "        document.querySelector('#df-1d1201c1-44b6-4306-a4ec-5b461091209a button.colab-df-convert');\n",
              "      buttonEl.style.display =\n",
              "        google.colab.kernel.accessAllowed ? 'block' : 'none';\n",
              "\n",
              "      async function convertToInteractive(key) {\n",
              "        const element = document.querySelector('#df-1d1201c1-44b6-4306-a4ec-5b461091209a');\n",
              "        const dataTable =\n",
              "          await google.colab.kernel.invokeFunction('convertToInteractive',\n",
              "                                                    [key], {});\n",
              "        if (!dataTable) return;\n",
              "\n",
              "        const docLinkHtml = 'Like what you see? Visit the ' +\n",
              "          '<a target=\"_blank\" href=https://colab.research.google.com/notebooks/data_table.ipynb>data table notebook</a>'\n",
              "          + ' to learn more about interactive tables.';\n",
              "        element.innerHTML = '';\n",
              "        dataTable['output_type'] = 'display_data';\n",
              "        await google.colab.output.renderOutput(dataTable, element);\n",
              "        const docLink = document.createElement('div');\n",
              "        docLink.innerHTML = docLinkHtml;\n",
              "        element.appendChild(docLink);\n",
              "      }\n",
              "    </script>\n",
              "  </div>\n",
              "\n",
              "\n",
              "<div id=\"df-8a7bb0f9-ffa4-4242-98a2-9c12d7bb7a65\">\n",
              "  <button class=\"colab-df-quickchart\" onclick=\"quickchart('df-8a7bb0f9-ffa4-4242-98a2-9c12d7bb7a65')\"\n",
              "            title=\"Suggest charts\"\n",
              "            style=\"display:none;\">\n",
              "\n",
              "<svg xmlns=\"http://www.w3.org/2000/svg\" height=\"24px\"viewBox=\"0 0 24 24\"\n",
              "     width=\"24px\">\n",
              "    <g>\n",
              "        <path d=\"M19 3H5c-1.1 0-2 .9-2 2v14c0 1.1.9 2 2 2h14c1.1 0 2-.9 2-2V5c0-1.1-.9-2-2-2zM9 17H7v-7h2v7zm4 0h-2V7h2v10zm4 0h-2v-4h2v4z\"/>\n",
              "    </g>\n",
              "</svg>\n",
              "  </button>\n",
              "\n",
              "<style>\n",
              "  .colab-df-quickchart {\n",
              "      --bg-color: #E8F0FE;\n",
              "      --fill-color: #1967D2;\n",
              "      --hover-bg-color: #E2EBFA;\n",
              "      --hover-fill-color: #174EA6;\n",
              "      --disabled-fill-color: #AAA;\n",
              "      --disabled-bg-color: #DDD;\n",
              "  }\n",
              "\n",
              "  [theme=dark] .colab-df-quickchart {\n",
              "      --bg-color: #3B4455;\n",
              "      --fill-color: #D2E3FC;\n",
              "      --hover-bg-color: #434B5C;\n",
              "      --hover-fill-color: #FFFFFF;\n",
              "      --disabled-bg-color: #3B4455;\n",
              "      --disabled-fill-color: #666;\n",
              "  }\n",
              "\n",
              "  .colab-df-quickchart {\n",
              "    background-color: var(--bg-color);\n",
              "    border: none;\n",
              "    border-radius: 50%;\n",
              "    cursor: pointer;\n",
              "    display: none;\n",
              "    fill: var(--fill-color);\n",
              "    height: 32px;\n",
              "    padding: 0;\n",
              "    width: 32px;\n",
              "  }\n",
              "\n",
              "  .colab-df-quickchart:hover {\n",
              "    background-color: var(--hover-bg-color);\n",
              "    box-shadow: 0 1px 2px rgba(60, 64, 67, 0.3), 0 1px 3px 1px rgba(60, 64, 67, 0.15);\n",
              "    fill: var(--button-hover-fill-color);\n",
              "  }\n",
              "\n",
              "  .colab-df-quickchart-complete:disabled,\n",
              "  .colab-df-quickchart-complete:disabled:hover {\n",
              "    background-color: var(--disabled-bg-color);\n",
              "    fill: var(--disabled-fill-color);\n",
              "    box-shadow: none;\n",
              "  }\n",
              "\n",
              "  .colab-df-spinner {\n",
              "    border: 2px solid var(--fill-color);\n",
              "    border-color: transparent;\n",
              "    border-bottom-color: var(--fill-color);\n",
              "    animation:\n",
              "      spin 1s steps(1) infinite;\n",
              "  }\n",
              "\n",
              "  @keyframes spin {\n",
              "    0% {\n",
              "      border-color: transparent;\n",
              "      border-bottom-color: var(--fill-color);\n",
              "      border-left-color: var(--fill-color);\n",
              "    }\n",
              "    20% {\n",
              "      border-color: transparent;\n",
              "      border-left-color: var(--fill-color);\n",
              "      border-top-color: var(--fill-color);\n",
              "    }\n",
              "    30% {\n",
              "      border-color: transparent;\n",
              "      border-left-color: var(--fill-color);\n",
              "      border-top-color: var(--fill-color);\n",
              "      border-right-color: var(--fill-color);\n",
              "    }\n",
              "    40% {\n",
              "      border-color: transparent;\n",
              "      border-right-color: var(--fill-color);\n",
              "      border-top-color: var(--fill-color);\n",
              "    }\n",
              "    60% {\n",
              "      border-color: transparent;\n",
              "      border-right-color: var(--fill-color);\n",
              "    }\n",
              "    80% {\n",
              "      border-color: transparent;\n",
              "      border-right-color: var(--fill-color);\n",
              "      border-bottom-color: var(--fill-color);\n",
              "    }\n",
              "    90% {\n",
              "      border-color: transparent;\n",
              "      border-bottom-color: var(--fill-color);\n",
              "    }\n",
              "  }\n",
              "</style>\n",
              "\n",
              "  <script>\n",
              "    async function quickchart(key) {\n",
              "      const quickchartButtonEl =\n",
              "        document.querySelector('#' + key + ' button');\n",
              "      quickchartButtonEl.disabled = true;  // To prevent multiple clicks.\n",
              "      quickchartButtonEl.classList.add('colab-df-spinner');\n",
              "      try {\n",
              "        const charts = await google.colab.kernel.invokeFunction(\n",
              "            'suggestCharts', [key], {});\n",
              "      } catch (error) {\n",
              "        console.error('Error during call to suggestCharts:', error);\n",
              "      }\n",
              "      quickchartButtonEl.classList.remove('colab-df-spinner');\n",
              "      quickchartButtonEl.classList.add('colab-df-quickchart-complete');\n",
              "    }\n",
              "    (() => {\n",
              "      let quickchartButtonEl =\n",
              "        document.querySelector('#df-8a7bb0f9-ffa4-4242-98a2-9c12d7bb7a65 button');\n",
              "      quickchartButtonEl.style.display =\n",
              "        google.colab.kernel.accessAllowed ? 'block' : 'none';\n",
              "    })();\n",
              "  </script>\n",
              "</div>\n",
              "\n",
              "    </div>\n",
              "  </div>\n"
            ],
            "application/vnd.google.colaboratory.intrinsic+json": {
              "type": "dataframe",
              "summary": "{\n  \"name\": \"model\",\n  \"rows\": 4,\n  \"fields\": [\n    {\n      \"column\": \"Model Name\",\n      \"properties\": {\n        \"dtype\": \"string\",\n        \"num_unique_values\": 4,\n        \"samples\": [\n          \"Decision tree depth 30\",\n          \"Multi-layer perceptron 500 iter\",\n          \"Logistic regression default\"\n        ],\n        \"semantic_type\": \"\",\n        \"description\": \"\"\n      }\n    },\n    {\n      \"column\": \"Accuracy\",\n      \"properties\": {\n        \"dtype\": \"number\",\n        \"std\": 1.2105161234080177,\n        \"min\": 95.40909492273943,\n        \"max\": 98.21701689107478,\n        \"num_unique_values\": 4,\n        \"samples\": [\n          95.98853033700507,\n          98.21701689107478,\n          96.50977257787765\n        ],\n        \"semantic_type\": \"\",\n        \"description\": \"\"\n      }\n    }\n  ]\n}"
            }
          },
          "metadata": {},
          "execution_count": 55
        }
      ],
      "source": [
        "model = spark.createDataFrame([(\"Logistic regression default\", accuracy_LogisticRegression*100),\n",
        "                               (\"Decision tree depth 30\", accuracy_DecisionTree*100),\n",
        "                               (\"Random forest depth 30\", accuracy_RandomForest*100),\n",
        "                               (\"Multi-layer perceptron 500 iter\", accuracy_MultilayerPerceptron*100)], [\"Model Name\",\"Accuracy\"])\n",
        "model.toPandas()"
      ]
    },
    {
      "cell_type": "code",
      "execution_count": 56,
      "metadata": {
        "id": "ZXPGwEF_Ewdw",
        "colab": {
          "base_uri": "https://localhost:8080/",
          "height": 564
        },
        "outputId": "7142ae10-351b-4458-8598-1666dbd6fb94"
      },
      "outputs": [
        {
          "output_type": "stream",
          "name": "stderr",
          "text": [
            "<ipython-input-56-43502f7a71af>:2: FutureWarning: \n",
            "\n",
            "Passing `palette` without assigning `hue` is deprecated and will be removed in v0.14.0. Assign the `y` variable to `hue` and set `legend=False` for the same effect.\n",
            "\n",
            "  sns.barplot(y = \"Model Name\", x = \"Accuracy\", data = model, palette=\"Set2\").set(title=\"Default Parameters Model Accuracy\")\n"
          ]
        },
        {
          "output_type": "display_data",
          "data": {
            "text/plain": [
              "<Figure size 640x480 with 1 Axes>"
            ],
            "image/png": "[encoded data removed]"
          },
          "metadata": {}
        }
      ],
      "source": [
        "model = model.toPandas()\n",
        "sns.barplot(y = \"Model Name\", x = \"Accuracy\", data = model, palette=\"Set2\").set(title=\"Default Parameters Model Accuracy\")\n",
        "plt.show()"
      ]
    },
    {
      "cell_type": "code",
      "execution_count": 57,
      "metadata": {
        "id": "rB6b7h6uObLw",
        "colab": {
          "base_uri": "https://localhost:8080/",
          "height": 174
        },
        "outputId": "b0e479b2-8749-4691-e3ec-082a517a90ea"
      },
      "outputs": [
        {
          "output_type": "execute_result",
          "data": {
            "text/plain": [
              "               Model Name   Accuracy\n",
              "0     Logistic regression  96.509773\n",
              "1           Decision tree  99.986668\n",
              "2           Random forest  99.986668\n",
              "3  Multi-layer perceptron  99.351639"
            ],
            "text/html": [
              "\n",
              "  <div id=\"df-f61f07e1-b599-4e2f-a188-0b0a6e5f806d\" class=\"colab-df-container\">\n",
              "    <div>\n",
              "<style scoped>\n",
              "    .dataframe tbody tr th:only-of-type {\n",
              "        vertical-align: middle;\n",
              "    }\n",
              "\n",
              "    .dataframe tbody tr th {\n",
              "        vertical-align: top;\n",
              "    }\n",
              "\n",
              "    .dataframe thead th {\n",
              "        text-align: right;\n",
              "    }\n",
              "</style>\n",
              "<table border=\"1\" class=\"dataframe\">\n",
              "  <thead>\n",
              "    <tr style=\"text-align: right;\">\n",
              "      <th></th>\n",
              "      <th>Model Name</th>\n",
              "      <th>Accuracy</th>\n",
              "    </tr>\n",
              "  </thead>\n",
              "  <tbody>\n",
              "    <tr>\n",
              "      <th>0</th>\n",
              "      <td>Logistic regression</td>\n",
              "      <td>96.509773</td>\n",
              "    </tr>\n",
              "    <tr>\n",
              "      <th>1</th>\n",
              "      <td>Decision tree</td>\n",
              "      <td>99.986668</td>\n",
              "    </tr>\n",
              "    <tr>\n",
              "      <th>2</th>\n",
              "      <td>Random forest</td>\n",
              "      <td>99.986668</td>\n",
              "    </tr>\n",
              "    <tr>\n",
              "      <th>3</th>\n",
              "      <td>Multi-layer perceptron</td>\n",
              "      <td>99.351639</td>\n",
              "    </tr>\n",
              "  </tbody>\n",
              "</table>\n",
              "</div>\n",
              "    <div class=\"colab-df-buttons\">\n",
              "\n",
              "  <div class=\"colab-df-container\">\n",
              "    <button class=\"colab-df-convert\" onclick=\"convertToInteractive('df-f61f07e1-b599-4e2f-a188-0b0a6e5f806d')\"\n",
              "            title=\"Convert this dataframe to an interactive table.\"\n",
              "            style=\"display:none;\">\n",
              "\n",
              "  <svg xmlns=\"http://www.w3.org/2000/svg\" height=\"24px\" viewBox=\"0 -960 960 960\">\n",
              "    <path d=\"M120-120v-720h720v720H120Zm60-500h600v-160H180v160Zm220 220h160v-160H400v160Zm0 220h160v-160H400v160ZM180-400h160v-160H180v160Zm440 0h160v-160H620v160ZM180-180h160v-160H180v160Zm440 0h160v-160H620v160Z\"/>\n",
              "  </svg>\n",
              "    </button>\n",
              "\n",
              "  <style>\n",
              "    .colab-df-container {\n",
              "      display:flex;\n",
              "      gap: 12px;\n",
              "    }\n",
              "\n",
              "    .colab-df-convert {\n",
              "      background-color: #E8F0FE;\n",
              "      border: none;\n",
              "      border-radius: 50%;\n",
              "      cursor: pointer;\n",
              "      display: none;\n",
              "      fill: #1967D2;\n",
              "      height: 32px;\n",
              "      padding: 0 0 0 0;\n",
              "      width: 32px;\n",
              "    }\n",
              "\n",
              "    .colab-df-convert:hover {\n",
              "      background-color: #E2EBFA;\n",
              "      box-shadow: 0px 1px 2px rgba(60, 64, 67, 0.3), 0px 1px 3px 1px rgba(60, 64, 67, 0.15);\n",
              "      fill: #174EA6;\n",
              "    }\n",
              "\n",
              "    .colab-df-buttons div {\n",
              "      margin-bottom: 4px;\n",
              "    }\n",
              "\n",
              "    [theme=dark] .colab-df-convert {\n",
              "      background-color: #3B4455;\n",
              "      fill: #D2E3FC;\n",
              "    }\n",
              "\n",
              "    [theme=dark] .colab-df-convert:hover {\n",
              "      background-color: #434B5C;\n",
              "      box-shadow: 0px 1px 3px 1px rgba(0, 0, 0, 0.15);\n",
              "      filter: drop-shadow(0px 1px 2px rgba(0, 0, 0, 0.3));\n",
              "      fill: #FFFFFF;\n",
              "    }\n",
              "  </style>\n",
              "\n",
              "    <script>\n",
              "      const buttonEl =\n",
              "        document.querySelector('#df-f61f07e1-b599-4e2f-a188-0b0a6e5f806d button.colab-df-convert');\n",
              "      buttonEl.style.display =\n",
              "        google.colab.kernel.accessAllowed ? 'block' : 'none';\n",
              "\n",
              "      async function convertToInteractive(key) {\n",
              "        const element = document.querySelector('#df-f61f07e1-b599-4e2f-a188-0b0a6e5f806d');\n",
              "        const dataTable =\n",
              "          await google.colab.kernel.invokeFunction('convertToInteractive',\n",
              "                                                    [key], {});\n",
              "        if (!dataTable) return;\n",
              "\n",
              "        const docLinkHtml = 'Like what you see? Visit the ' +\n",
              "          '<a target=\"_blank\" href=https://colab.research.google.com/notebooks/data_table.ipynb>data table notebook</a>'\n",
              "          + ' to learn more about interactive tables.';\n",
              "        element.innerHTML = '';\n",
              "        dataTable['output_type'] = 'display_data';\n",
              "        await google.colab.output.renderOutput(dataTable, element);\n",
              "        const docLink = document.createElement('div');\n",
              "        docLink.innerHTML = docLinkHtml;\n",
              "        element.appendChild(docLink);\n",
              "      }\n",
              "    </script>\n",
              "  </div>\n",
              "\n",
              "\n",
              "<div id=\"df-8d9424dd-f55b-4391-9caf-7fd1ca2d25a6\">\n",
              "  <button class=\"colab-df-quickchart\" onclick=\"quickchart('df-8d9424dd-f55b-4391-9caf-7fd1ca2d25a6')\"\n",
              "            title=\"Suggest charts\"\n",
              "            style=\"display:none;\">\n",
              "\n",
              "<svg xmlns=\"http://www.w3.org/2000/svg\" height=\"24px\"viewBox=\"0 0 24 24\"\n",
              "     width=\"24px\">\n",
              "    <g>\n",
              "        <path d=\"M19 3H5c-1.1 0-2 .9-2 2v14c0 1.1.9 2 2 2h14c1.1 0 2-.9 2-2V5c0-1.1-.9-2-2-2zM9 17H7v-7h2v7zm4 0h-2V7h2v10zm4 0h-2v-4h2v4z\"/>\n",
              "    </g>\n",
              "</svg>\n",
              "  </button>\n",
              "\n",
              "<style>\n",
              "  .colab-df-quickchart {\n",
              "      --bg-color: #E8F0FE;\n",
              "      --fill-color: #1967D2;\n",
              "      --hover-bg-color: #E2EBFA;\n",
              "      --hover-fill-color: #174EA6;\n",
              "      --disabled-fill-color: #AAA;\n",
              "      --disabled-bg-color: #DDD;\n",
              "  }\n",
              "\n",
              "  [theme=dark] .colab-df-quickchart {\n",
              "      --bg-color: #3B4455;\n",
              "      --fill-color: #D2E3FC;\n",
              "      --hover-bg-color: #434B5C;\n",
              "      --hover-fill-color: #FFFFFF;\n",
              "      --disabled-bg-color: #3B4455;\n",
              "      --disabled-fill-color: #666;\n",
              "  }\n",
              "\n",
              "  .colab-df-quickchart {\n",
              "    background-color: var(--bg-color);\n",
              "    border: none;\n",
              "    border-radius: 50%;\n",
              "    cursor: pointer;\n",
              "    display: none;\n",
              "    fill: var(--fill-color);\n",
              "    height: 32px;\n",
              "    padding: 0;\n",
              "    width: 32px;\n",
              "  }\n",
              "\n",
              "  .colab-df-quickchart:hover {\n",
              "    background-color: var(--hover-bg-color);\n",
              "    box-shadow: 0 1px 2px rgba(60, 64, 67, 0.3), 0 1px 3px 1px rgba(60, 64, 67, 0.15);\n",
              "    fill: var(--button-hover-fill-color);\n",
              "  }\n",
              "\n",
              "  .colab-df-quickchart-complete:disabled,\n",
              "  .colab-df-quickchart-complete:disabled:hover {\n",
              "    background-color: var(--disabled-bg-color);\n",
              "    fill: var(--disabled-fill-color);\n",
              "    box-shadow: none;\n",
              "  }\n",
              "\n",
              "  .colab-df-spinner {\n",
              "    border: 2px solid var(--fill-color);\n",
              "    border-color: transparent;\n",
              "    border-bottom-color: var(--fill-color);\n",
              "    animation:\n",
              "      spin 1s steps(1) infinite;\n",
              "  }\n",
              "\n",
              "  @keyframes spin {\n",
              "    0% {\n",
              "      border-color: transparent;\n",
              "      border-bottom-color: var(--fill-color);\n",
              "      border-left-color: var(--fill-color);\n",
              "    }\n",
              "    20% {\n",
              "      border-color: transparent;\n",
              "      border-left-color: var(--fill-color);\n",
              "      border-top-color: var(--fill-color);\n",
              "    }\n",
              "    30% {\n",
              "      border-color: transparent;\n",
              "      border-left-color: var(--fill-color);\n",
              "      border-top-color: var(--fill-color);\n",
              "      border-right-color: var(--fill-color);\n",
              "    }\n",
              "    40% {\n",
              "      border-color: transparent;\n",
              "      border-right-color: var(--fill-color);\n",
              "      border-top-color: var(--fill-color);\n",
              "    }\n",
              "    60% {\n",
              "      border-color: transparent;\n",
              "      border-right-color: var(--fill-color);\n",
              "    }\n",
              "    80% {\n",
              "      border-color: transparent;\n",
              "      border-right-color: var(--fill-color);\n",
              "      border-bottom-color: var(--fill-color);\n",
              "    }\n",
              "    90% {\n",
              "      border-color: transparent;\n",
              "      border-bottom-color: var(--fill-color);\n",
              "    }\n",
              "  }\n",
              "</style>\n",
              "\n",
              "  <script>\n",
              "    async function quickchart(key) {\n",
              "      const quickchartButtonEl =\n",
              "        document.querySelector('#' + key + ' button');\n",
              "      quickchartButtonEl.disabled = true;  // To prevent multiple clicks.\n",
              "      quickchartButtonEl.classList.add('colab-df-spinner');\n",
              "      try {\n",
              "        const charts = await google.colab.kernel.invokeFunction(\n",
              "            'suggestCharts', [key], {});\n",
              "      } catch (error) {\n",
              "        console.error('Error during call to suggestCharts:', error);\n",
              "      }\n",
              "      quickchartButtonEl.classList.remove('colab-df-spinner');\n",
              "      quickchartButtonEl.classList.add('colab-df-quickchart-complete');\n",
              "    }\n",
              "    (() => {\n",
              "      let quickchartButtonEl =\n",
              "        document.querySelector('#df-8d9424dd-f55b-4391-9caf-7fd1ca2d25a6 button');\n",
              "      quickchartButtonEl.style.display =\n",
              "        google.colab.kernel.accessAllowed ? 'block' : 'none';\n",
              "    })();\n",
              "  </script>\n",
              "</div>\n",
              "\n",
              "    </div>\n",
              "  </div>\n"
            ],
            "application/vnd.google.colaboratory.intrinsic+json": {
              "type": "dataframe",
              "summary": "{\n  \"name\": \"model_1\",\n  \"rows\": 4,\n  \"fields\": [\n    {\n      \"column\": \"Model Name\",\n      \"properties\": {\n        \"dtype\": \"string\",\n        \"num_unique_values\": 4,\n        \"samples\": [\n          \"Decision tree\",\n          \"Multi-layer perceptron\",\n          \"Logistic regression\"\n        ],\n        \"semantic_type\": \"\",\n        \"description\": \"\"\n      }\n    },\n    {\n      \"column\": \"Accuracy\",\n      \"properties\": {\n        \"dtype\": \"number\",\n        \"std\": 1.6598276214189058,\n        \"min\": 96.50977257787765,\n        \"max\": 99.98666797472096,\n        \"num_unique_values\": 3,\n        \"samples\": [\n          96.50977257787765,\n          99.98666797472096,\n          99.35163939256188\n        ],\n        \"semantic_type\": \"\",\n        \"description\": \"\"\n      }\n    }\n  ]\n}"
            }
          },
          "metadata": {},
          "execution_count": 57
        }
      ],
      "source": [
        "model_1 = spark.createDataFrame([(\"Logistic regression\", accuracy_LogisticRegression*100),\n",
        "                               (\"Decision tree\", accuracy_RandomForest_2*100),\n",
        "                               (\"Random forest\", accuracy_RandomForest_2*100),\n",
        "                               (\"Multi-layer perceptron\", accuracy_MultilayerPerceptron_1*100)], [\"Model Name\",\"Accuracy\"])\n",
        "model_1.toPandas()"
      ]
    },
    {
      "cell_type": "code",
      "execution_count": 58,
      "metadata": {
        "id": "QrAD5jnI09fG",
        "colab": {
          "base_uri": "https://localhost:8080/",
          "height": 564
        },
        "outputId": "a175923f-cb14-47e0-b3bd-8ab48300d065"
      },
      "outputs": [
        {
          "output_type": "stream",
          "name": "stderr",
          "text": [
            "<ipython-input-58-9cf5c1e00eb3>:2: FutureWarning: \n",
            "\n",
            "Passing `palette` without assigning `hue` is deprecated and will be removed in v0.14.0. Assign the `y` variable to `hue` and set `legend=False` for the same effect.\n",
            "\n",
            "  sns.barplot(y = \"Model Name\", x = \"Accuracy\", data = model_1, palette=\"Set2\").set(title=\"Highest Model Accuracy\")\n"
          ]
        },
        {
          "output_type": "display_data",
          "data": {
            "text/plain": [
              "<Figure size 640x480 with 1 Axes>"
            ],
            "image/png": "[encoded data removed]"
          },
          "metadata": {}
        }
      ],
      "source": [
        "model_1 = model_1.toPandas()\n",
        "sns.barplot(y = \"Model Name\", x = \"Accuracy\", data = model_1, palette=\"Set2\").set(title=\"Highest Model Accuracy\")\n",
        "plt.show()"
      ]
    },
    {
      "cell_type": "code",
      "execution_count": 59,
      "metadata": {
        "id": "trVwimp82dOf",
        "colab": {
          "base_uri": "https://localhost:8080/",
          "height": 174
        },
        "outputId": "b0d6a757-867d-4918-acbf-d0fefb7126ce"
      },
      "outputs": [
        {
          "output_type": "execute_result",
          "data": {
            "text/plain": [
              "                                         Model Name   Accuracy\n",
              "0                         Logistic regression Ridge  94.138047\n",
              "1                             Decision tree depth 0  33.285786\n",
              "2                             Random forest depth 0  33.285786\n",
              "3  Multi-layer perceptron 3 hidden layers(16, 8, 4)  63.145218"
            ],
            "text/html": [
              "\n",
              "  <div id=\"df-3715b7ce-0476-4262-8b78-e0086040ce96\" class=\"colab-df-container\">\n",
              "    <div>\n",
              "<style scoped>\n",
              "    .dataframe tbody tr th:only-of-type {\n",
              "        vertical-align: middle;\n",
              "    }\n",
              "\n",
              "    .dataframe tbody tr th {\n",
              "        vertical-align: top;\n",
              "    }\n",
              "\n",
              "    .dataframe thead th {\n",
              "        text-align: right;\n",
              "    }\n",
              "</style>\n",
              "<table border=\"1\" class=\"dataframe\">\n",
              "  <thead>\n",
              "    <tr style=\"text-align: right;\">\n",
              "      <th></th>\n",
              "      <th>Model Name</th>\n",
              "      <th>Accuracy</th>\n",
              "    </tr>\n",
              "  </thead>\n",
              "  <tbody>\n",
              "    <tr>\n",
              "      <th>0</th>\n",
              "      <td>Logistic regression Ridge</td>\n",
              "      <td>94.138047</td>\n",
              "    </tr>\n",
              "    <tr>\n",
              "      <th>1</th>\n",
              "      <td>Decision tree depth 0</td>\n",
              "      <td>33.285786</td>\n",
              "    </tr>\n",
              "    <tr>\n",
              "      <th>2</th>\n",
              "      <td>Random forest depth 0</td>\n",
              "      <td>33.285786</td>\n",
              "    </tr>\n",
              "    <tr>\n",
              "      <th>3</th>\n",
              "      <td>Multi-layer perceptron 3 hidden layers(16, 8, 4)</td>\n",
              "      <td>63.145218</td>\n",
              "    </tr>\n",
              "  </tbody>\n",
              "</table>\n",
              "</div>\n",
              "    <div class=\"colab-df-buttons\">\n",
              "\n",
              "  <div class=\"colab-df-container\">\n",
              "    <button class=\"colab-df-convert\" onclick=\"convertToInteractive('df-3715b7ce-0476-4262-8b78-e0086040ce96')\"\n",
              "            title=\"Convert this dataframe to an interactive table.\"\n",
              "            style=\"display:none;\">\n",
              "\n",
              "  <svg xmlns=\"http://www.w3.org/2000/svg\" height=\"24px\" viewBox=\"0 -960 960 960\">\n",
              "    <path d=\"M120-120v-720h720v720H120Zm60-500h600v-160H180v160Zm220 220h160v-160H400v160Zm0 220h160v-160H400v160ZM180-400h160v-160H180v160Zm440 0h160v-160H620v160ZM180-180h160v-160H180v160Zm440 0h160v-160H620v160Z\"/>\n",
              "  </svg>\n",
              "    </button>\n",
              "\n",
              "  <style>\n",
              "    .colab-df-container {\n",
              "      display:flex;\n",
              "      gap: 12px;\n",
              "    }\n",
              "\n",
              "    .colab-df-convert {\n",
              "      background-color: #E8F0FE;\n",
              "      border: none;\n",
              "      border-radius: 50%;\n",
              "      cursor: pointer;\n",
              "      display: none;\n",
              "      fill: #1967D2;\n",
              "      height: 32px;\n",
              "      padding: 0 0 0 0;\n",
              "      width: 32px;\n",
              "    }\n",
              "\n",
              "    .colab-df-convert:hover {\n",
              "      background-color: #E2EBFA;\n",
              "      box-shadow: 0px 1px 2px rgba(60, 64, 67, 0.3), 0px 1px 3px 1px rgba(60, 64, 67, 0.15);\n",
              "      fill: #174EA6;\n",
              "    }\n",
              "\n",
              "    .colab-df-buttons div {\n",
              "      margin-bottom: 4px;\n",
              "    }\n",
              "\n",
              "    [theme=dark] .colab-df-convert {\n",
              "      background-color: #3B4455;\n",
              "      fill: #D2E3FC;\n",
              "    }\n",
              "\n",
              "    [theme=dark] .colab-df-convert:hover {\n",
              "      background-color: #434B5C;\n",
              "      box-shadow: 0px 1px 3px 1px rgba(0, 0, 0, 0.15);\n",
              "      filter: drop-shadow(0px 1px 2px rgba(0, 0, 0, 0.3));\n",
              "      fill: #FFFFFF;\n",
              "    }\n",
              "  </style>\n",
              "\n",
              "    <script>\n",
              "      const buttonEl =\n",
              "        document.querySelector('#df-3715b7ce-0476-4262-8b78-e0086040ce96 button.colab-df-convert');\n",
              "      buttonEl.style.display =\n",
              "        google.colab.kernel.accessAllowed ? 'block' : 'none';\n",
              "\n",
              "      async function convertToInteractive(key) {\n",
              "        const element = document.querySelector('#df-3715b7ce-0476-4262-8b78-e0086040ce96');\n",
              "        const dataTable =\n",
              "          await google.colab.kernel.invokeFunction('convertToInteractive',\n",
              "                                                    [key], {});\n",
              "        if (!dataTable) return;\n",
              "\n",
              "        const docLinkHtml = 'Like what you see? Visit the ' +\n",
              "          '<a target=\"_blank\" href=https://colab.research.google.com/notebooks/data_table.ipynb>data table notebook</a>'\n",
              "          + ' to learn more about interactive tables.';\n",
              "        element.innerHTML = '';\n",
              "        dataTable['output_type'] = 'display_data';\n",
              "        await google.colab.output.renderOutput(dataTable, element);\n",
              "        const docLink = document.createElement('div');\n",
              "        docLink.innerHTML = docLinkHtml;\n",
              "        element.appendChild(docLink);\n",
              "      }\n",
              "    </script>\n",
              "  </div>\n",
              "\n",
              "\n",
              "<div id=\"df-68005939-058e-469f-a428-b5e8876e0a02\">\n",
              "  <button class=\"colab-df-quickchart\" onclick=\"quickchart('df-68005939-058e-469f-a428-b5e8876e0a02')\"\n",
              "            title=\"Suggest charts\"\n",
              "            style=\"display:none;\">\n",
              "\n",
              "<svg xmlns=\"http://www.w3.org/2000/svg\" height=\"24px\"viewBox=\"0 0 24 24\"\n",
              "     width=\"24px\">\n",
              "    <g>\n",
              "        <path d=\"M19 3H5c-1.1 0-2 .9-2 2v14c0 1.1.9 2 2 2h14c1.1 0 2-.9 2-2V5c0-1.1-.9-2-2-2zM9 17H7v-7h2v7zm4 0h-2V7h2v10zm4 0h-2v-4h2v4z\"/>\n",
              "    </g>\n",
              "</svg>\n",
              "  </button>\n",
              "\n",
              "<style>\n",
              "  .colab-df-quickchart {\n",
              "      --bg-color: #E8F0FE;\n",
              "      --fill-color: #1967D2;\n",
              "      --hover-bg-color: #E2EBFA;\n",
              "      --hover-fill-color: #174EA6;\n",
              "      --disabled-fill-color: #AAA;\n",
              "      --disabled-bg-color: #DDD;\n",
              "  }\n",
              "\n",
              "  [theme=dark] .colab-df-quickchart {\n",
              "      --bg-color: #3B4455;\n",
              "      --fill-color: #D2E3FC;\n",
              "      --hover-bg-color: #434B5C;\n",
              "      --hover-fill-color: #FFFFFF;\n",
              "      --disabled-bg-color: #3B4455;\n",
              "      --disabled-fill-color: #666;\n",
              "  }\n",
              "\n",
              "  .colab-df-quickchart {\n",
              "    background-color: var(--bg-color);\n",
              "    border: none;\n",
              "    border-radius: 50%;\n",
              "    cursor: pointer;\n",
              "    display: none;\n",
              "    fill: var(--fill-color);\n",
              "    height: 32px;\n",
              "    padding: 0;\n",
              "    width: 32px;\n",
              "  }\n",
              "\n",
              "  .colab-df-quickchart:hover {\n",
              "    background-color: var(--hover-bg-color);\n",
              "    box-shadow: 0 1px 2px rgba(60, 64, 67, 0.3), 0 1px 3px 1px rgba(60, 64, 67, 0.15);\n",
              "    fill: var(--button-hover-fill-color);\n",
              "  }\n",
              "\n",
              "  .colab-df-quickchart-complete:disabled,\n",
              "  .colab-df-quickchart-complete:disabled:hover {\n",
              "    background-color: var(--disabled-bg-color);\n",
              "    fill: var(--disabled-fill-color);\n",
              "    box-shadow: none;\n",
              "  }\n",
              "\n",
              "  .colab-df-spinner {\n",
              "    border: 2px solid var(--fill-color);\n",
              "    border-color: transparent;\n",
              "    border-bottom-color: var(--fill-color);\n",
              "    animation:\n",
              "      spin 1s steps(1) infinite;\n",
              "  }\n",
              "\n",
              "  @keyframes spin {\n",
              "    0% {\n",
              "      border-color: transparent;\n",
              "      border-bottom-color: var(--fill-color);\n",
              "      border-left-color: var(--fill-color);\n",
              "    }\n",
              "    20% {\n",
              "      border-color: transparent;\n",
              "      border-left-color: var(--fill-color);\n",
              "      border-top-color: var(--fill-color);\n",
              "    }\n",
              "    30% {\n",
              "      border-color: transparent;\n",
              "      border-left-color: var(--fill-color);\n",
              "      border-top-color: var(--fill-color);\n",
              "      border-right-color: var(--fill-color);\n",
              "    }\n",
              "    40% {\n",
              "      border-color: transparent;\n",
              "      border-right-color: var(--fill-color);\n",
              "      border-top-color: var(--fill-color);\n",
              "    }\n",
              "    60% {\n",
              "      border-color: transparent;\n",
              "      border-right-color: var(--fill-color);\n",
              "    }\n",
              "    80% {\n",
              "      border-color: transparent;\n",
              "      border-right-color: var(--fill-color);\n",
              "      border-bottom-color: var(--fill-color);\n",
              "    }\n",
              "    90% {\n",
              "      border-color: transparent;\n",
              "      border-bottom-color: var(--fill-color);\n",
              "    }\n",
              "  }\n",
              "</style>\n",
              "\n",
              "  <script>\n",
              "    async function quickchart(key) {\n",
              "      const quickchartButtonEl =\n",
              "        document.querySelector('#' + key + ' button');\n",
              "      quickchartButtonEl.disabled = true;  // To prevent multiple clicks.\n",
              "      quickchartButtonEl.classList.add('colab-df-spinner');\n",
              "      try {\n",
              "        const charts = await google.colab.kernel.invokeFunction(\n",
              "            'suggestCharts', [key], {});\n",
              "      } catch (error) {\n",
              "        console.error('Error during call to suggestCharts:', error);\n",
              "      }\n",
              "      quickchartButtonEl.classList.remove('colab-df-spinner');\n",
              "      quickchartButtonEl.classList.add('colab-df-quickchart-complete');\n",
              "    }\n",
              "    (() => {\n",
              "      let quickchartButtonEl =\n",
              "        document.querySelector('#df-68005939-058e-469f-a428-b5e8876e0a02 button');\n",
              "      quickchartButtonEl.style.display =\n",
              "        google.colab.kernel.accessAllowed ? 'block' : 'none';\n",
              "    })();\n",
              "  </script>\n",
              "</div>\n",
              "\n",
              "    </div>\n",
              "  </div>\n"
            ],
            "application/vnd.google.colaboratory.intrinsic+json": {
              "type": "dataframe",
              "summary": "{\n  \"name\": \"model_2\",\n  \"rows\": 4,\n  \"fields\": [\n    {\n      \"column\": \"Model Name\",\n      \"properties\": {\n        \"dtype\": \"string\",\n        \"num_unique_values\": 4,\n        \"samples\": [\n          \"Decision tree depth 0\",\n          \"Multi-layer perceptron 3 hidden layers(16, 8, 4)\",\n          \"Logistic regression Ridge\"\n        ],\n        \"semantic_type\": \"\",\n        \"description\": \"\"\n      }\n    },\n    {\n      \"column\": \"Accuracy\",\n      \"properties\": {\n        \"dtype\": \"number\",\n        \"std\": 29.082816196210363,\n        \"min\": 33.285785512812254,\n        \"max\": 94.13804709812005,\n        \"num_unique_values\": 3,\n        \"samples\": [\n          94.13804709812005,\n          33.285785512812254,\n          63.14521838846452\n        ],\n        \"semantic_type\": \"\",\n        \"description\": \"\"\n      }\n    }\n  ]\n}"
            }
          },
          "metadata": {},
          "execution_count": 59
        }
      ],
      "source": [
        "model_2 = spark.createDataFrame([(\"Logistic regression Ridge\", accuracy_LogisticRegression_2*100),\n",
        "                               (\"Decision tree depth 0\", accuracy_RandomForest_3*100),\n",
        "                               (\"Random forest depth 0\", accuracy_RandomForest_3*100),\n",
        "                               (\"Multi-layer perceptron 3 hidden layers(16, 8, 4)\", accuracy_MultilayerPerceptron_5*100)], [\"Model Name\",\"Accuracy\"])\n",
        "model_2.toPandas()"
      ]
    },
    {
      "cell_type": "code",
      "execution_count": 60,
      "metadata": {
        "id": "O8WkorYp2djn",
        "colab": {
          "base_uri": "https://localhost:8080/",
          "height": 564
        },
        "outputId": "293000ad-cd32-4cf4-941d-30613206dec1"
      },
      "outputs": [
        {
          "output_type": "stream",
          "name": "stderr",
          "text": [
            "<ipython-input-60-301be1de1957>:2: FutureWarning: \n",
            "\n",
            "Passing `palette` without assigning `hue` is deprecated and will be removed in v0.14.0. Assign the `y` variable to `hue` and set `legend=False` for the same effect.\n",
            "\n",
            "  sns.barplot(y = \"Model Name\", x = \"Accuracy\", data = model_2, palette=\"Set2\").set(title=\"Lowest Model Accuracy\")\n"
          ]
        },
        {
          "output_type": "display_data",
          "data": {
            "text/plain": [
              "<Figure size 640x480 with 1 Axes>"
            ],
            "image/png": "[encoded data removed]"
          },
          "metadata": {}
        }
      ],
      "source": [
        "model_2 = model_2.toPandas()\n",
        "sns.barplot(y = \"Model Name\", x = \"Accuracy\", data = model_2, palette=\"Set2\").set(title=\"Lowest Model Accuracy\")\n",
        "plt.show()"
      ]
    }
  ],
  "metadata": {
    "colab": {
      "provenance": []
    },
    "kernelspec": {
      "display_name": "Python 3",
      "name": "python3"
    },
    "language_info": {
      "name": "python"
    }
  },
  "nbformat": 4,
  "nbformat_minor": 0
}